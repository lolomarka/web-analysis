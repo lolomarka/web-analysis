{
  "nbformat": 4,
  "nbformat_minor": 0,
  "metadata": {
    "colab": {
      "provenance": [],
      "authorship_tag": "ABX9TyO/AcuZNlxZ/XCzTjF1XIW6",
      "include_colab_link": true
    },
    "kernelspec": {
      "name": "python3",
      "display_name": "Python 3"
    },
    "language_info": {
      "name": "python"
    }
  },
  "cells": [
    {
      "cell_type": "markdown",
      "metadata": {
        "id": "view-in-github",
        "colab_type": "text"
      },
      "source": [
        "<a href=\"https://colab.research.google.com/github/lolomarka/web-analysis/blob/main/web_anal_prakt1.ipynb\" target=\"_parent\"><img src=\"https://colab.research.google.com/assets/colab-badge.svg\" alt=\"Open In Colab\"/></a>"
      ]
    },
    {
      "cell_type": "code",
      "execution_count": 113,
      "metadata": {
        "colab": {
          "base_uri": "https://localhost:8080/"
        },
        "id": "8jSbQcwHSLZ8",
        "outputId": "d9cea28d-8ad5-4771-cf15-e51c05ea7901"
      },
      "outputs": [
        {
          "output_type": "stream",
          "name": "stdout",
          "text": [
            "Requirement already satisfied: requests in /usr/local/lib/python3.10/dist-packages (2.32.3)\n",
            "Requirement already satisfied: urllib3 in /usr/local/lib/python3.10/dist-packages (2.2.3)\n",
            "Requirement already satisfied: warcio in /usr/local/lib/python3.10/dist-packages (1.7.4)\n",
            "Requirement already satisfied: pandas in /usr/local/lib/python3.10/dist-packages (2.2.2)\n",
            "Requirement already satisfied: beautifulsoup4 in /usr/local/lib/python3.10/dist-packages (4.12.3)\n",
            "Requirement already satisfied: charset-normalizer<4,>=2 in /usr/local/lib/python3.10/dist-packages (from requests) (3.3.2)\n",
            "Requirement already satisfied: idna<4,>=2.5 in /usr/local/lib/python3.10/dist-packages (from requests) (3.10)\n",
            "Requirement already satisfied: certifi>=2017.4.17 in /usr/local/lib/python3.10/dist-packages (from requests) (2024.8.30)\n",
            "Requirement already satisfied: six in /usr/local/lib/python3.10/dist-packages (from warcio) (1.16.0)\n",
            "Requirement already satisfied: numpy>=1.22.4 in /usr/local/lib/python3.10/dist-packages (from pandas) (1.26.4)\n",
            "Requirement already satisfied: python-dateutil>=2.8.2 in /usr/local/lib/python3.10/dist-packages (from pandas) (2.8.2)\n",
            "Requirement already satisfied: pytz>=2020.1 in /usr/local/lib/python3.10/dist-packages (from pandas) (2024.2)\n",
            "Requirement already satisfied: tzdata>=2022.7 in /usr/local/lib/python3.10/dist-packages (from pandas) (2024.2)\n",
            "Requirement already satisfied: soupsieve>1.2 in /usr/local/lib/python3.10/dist-packages (from beautifulsoup4) (2.6)\n"
          ]
        }
      ],
      "source": [
        "!pip3 install requests urllib3 warcio pandas beautifulsoup4"
      ]
    },
    {
      "cell_type": "code",
      "source": [
        "import requests\n",
        "import json\n",
        "import os\n",
        "import pandas as pd\n",
        "from urllib.parse import quote_plus, unquote_plus\n",
        "from requests.utils import requote_uri\n",
        "\n",
        "from warcio.archiveiterator import ArchiveIterator"
      ],
      "metadata": {
        "id": "6MefHONsS_7a"
      },
      "execution_count": 114,
      "outputs": []
    },
    {
      "cell_type": "code",
      "source": [
        "def search_url(index_name, url):\n",
        "  encoded_url = quote_plus(url)\n",
        "  index_url = f'http://index.commoncrawl.org/{index_name}-index?url={encoded_url}&output=json'\n",
        "  response = requests.get(index_url)\n",
        "\n",
        "  if response.status_code == 200:\n",
        "    records = response.text.strip().split('\\n')\n",
        "    return [json.loads(record) for record in records]\n",
        "  else:\n",
        "    return None\n",
        "\n",
        "def distinct_by_url(not_unique_records_list):\n",
        "  unique = {}\n",
        "  for result in not_unique_records_list:\n",
        "    if result['url'] not in unique:\n",
        "      unique[result['url']] = result\n",
        "  return unique\n"
      ],
      "metadata": {
        "id": "1pj2P9qIJFVH"
      },
      "execution_count": 115,
      "outputs": []
    },
    {
      "cell_type": "code",
      "source": [
        "index_names = { 'CC-MAIN-2024-38', 'CC-MAIN-2024-33', 'CC-MAIN-2024-30', 'CC-MAIN-2024-26', 'CC-MAIN-2024-22', 'CC-MAIN-2024-18', 'CC-MAIN-2024-10', 'CC-MAIN-2024-50' }\n",
        "\n",
        "# Для повышения шансов что=то найти, ищем на русской википедии.\n",
        "url_for_search = 'ru.wikipedia.org/*'\n",
        "\n",
        "results = []\n",
        "\n",
        "for index in index_names:\n",
        "  s_result = search_url(index, url_for_search)\n",
        "  if s_result:\n",
        "    results += s_result\n",
        "\n",
        "len(results)"
      ],
      "metadata": {
        "colab": {
          "base_uri": "https://localhost:8080/"
        },
        "id": "wsKa8dO-JYJ1",
        "outputId": "9e902540-df8c-4d37-cd7e-aa0bb14fd9cb"
      },
      "execution_count": 116,
      "outputs": [
        {
          "output_type": "execute_result",
          "data": {
            "text/plain": [
              "93396"
            ]
          },
          "metadata": {},
          "execution_count": 116
        }
      ]
    },
    {
      "cell_type": "code",
      "source": [
        "unique_results = distinct_by_url(results)\n",
        "len(unique_results)"
      ],
      "metadata": {
        "colab": {
          "base_uri": "https://localhost:8080/"
        },
        "id": "mewoqAXqNvV3",
        "outputId": "0281e31a-16bb-4695-84a9-0fe156048d99"
      },
      "execution_count": 117,
      "outputs": [
        {
          "output_type": "execute_result",
          "data": {
            "text/plain": [
              "91209"
            ]
          },
          "metadata": {},
          "execution_count": 117
        }
      ]
    },
    {
      "cell_type": "code",
      "source": [
        "def fetch_single_record(warc_record_filename, offset, length):\n",
        "    s3_url = f'https://data.commoncrawl.org/{warc_record_filename}'\n",
        "\n",
        "    byte_range = f'bytes={offset}-{offset + length - 1}'\n",
        "\n",
        "    response = requests.get(\n",
        "        s3_url,\n",
        "        headers={'Range': byte_range},\n",
        "        stream=True\n",
        "    )\n",
        "\n",
        "    if response.status_code == 206:\n",
        "        stream = ArchiveIterator(response.raw)\n",
        "        for warc_record in stream:\n",
        "            if warc_record.rec_type == 'response':\n",
        "                return warc_record.content_stream().read()\n",
        "    else:\n",
        "        print(f\"Failed to fetch data: {response.status_code}\")\n",
        "\n",
        "    return None"
      ],
      "metadata": {
        "id": "1k2wU_sQOZqO"
      },
      "execution_count": 118,
      "outputs": []
    },
    {
      "cell_type": "code",
      "source": [
        "keywords = [ 'Перм', 'Пастернак', 'ПНИПУ', 'МФТИ', 'МГУ', 'Московский государственный университет', 'ИТАС', 'Пермский Национальный Исследовательский Политехнический Университет']\n",
        "keywords"
      ],
      "metadata": {
        "colab": {
          "base_uri": "https://localhost:8080/"
        },
        "id": "RV1CsMH8Ov4J",
        "outputId": "7ea7eee8-53d7-4081-b7a5-1c85bd96d839"
      },
      "execution_count": 119,
      "outputs": [
        {
          "output_type": "execute_result",
          "data": {
            "text/plain": [
              "['Перм',\n",
              " 'Пастернак',\n",
              " 'ПНИПУ',\n",
              " 'МФТИ',\n",
              " 'МГУ',\n",
              " 'Московский государственный университет',\n",
              " 'ИТАС',\n",
              " 'Пермский Национальный Исследовательский Политехнический Университет']"
            ]
          },
          "metadata": {},
          "execution_count": 119
        }
      ]
    },
    {
      "cell_type": "code",
      "source": [
        "filtered_results = []\n",
        "for result in unique_results.values():\n",
        "\tif any(requote_uri(keyword) in result['url'] for keyword in keywords):\n",
        "\t\tfiltered_results.append(result)\n",
        "\n",
        "len(filtered_results)"
      ],
      "metadata": {
        "colab": {
          "base_uri": "https://localhost:8080/"
        },
        "id": "Knmd4yEVUmni",
        "outputId": "178407f2-9e17-4576-bcb5-816f1f8d4e53"
      },
      "execution_count": 120,
      "outputs": [
        {
          "output_type": "execute_result",
          "data": {
            "text/plain": [
              "21"
            ]
          },
          "metadata": {},
          "execution_count": 120
        }
      ]
    },
    {
      "cell_type": "code",
      "source": [
        "html_results = {}\n",
        "\n",
        "for result in filtered_results:\n",
        "\trecord = fetch_single_record(result['filename'], int(result['offset']), int(result['length']))\n",
        "\tif record:\n",
        "\t\thtml_results[result['url']] = record\n",
        "\n"
      ],
      "metadata": {
        "id": "Tbt4yRZ2W09w"
      },
      "execution_count": 121,
      "outputs": []
    },
    {
      "cell_type": "code",
      "source": [
        "from bs4 import BeautifulSoup\n",
        "\n",
        "for url, html in html_results.items():\n",
        "  beautiful_soup = BeautifulSoup(html, 'html.parser')\n",
        "  print(f'Название статьи - {beautiful_soup.title.string}; URL - {unquote_plus(url)}')\n",
        "  for keyword in keywords:\n",
        "    if keyword.casefold() in beautiful_soup.get_text().casefold():\n",
        "      print(f\"Ключевое слово: {keyword} в статье {beautiful_soup.title.string}\")\n",
        "  print(\"\\n\")\n",
        "\n"
      ],
      "metadata": {
        "colab": {
          "base_uri": "https://localhost:8080/"
        },
        "id": "x31tJ0tsY49g",
        "outputId": "21cf4ab1-2f60-4676-c1a7-0cd4dfc1139c"
      },
      "execution_count": 123,
      "outputs": [
        {
          "output_type": "stream",
          "name": "stdout",
          "text": [
            "Название статьи - Барда (Пермский край) — Википедия; URL - https://ru.wikipedia.org/wiki/Барда_(Пермский_край)\n",
            "Ключевое слово: Перм в статье Барда (Пермский край) — Википедия\n",
            "\n",
            "\n",
            "Название статьи - Башня смерти (Пермь) — Википедия; URL - https://ru.wikipedia.org/wiki/Башня_смерти_(Пермь)\n",
            "Ключевое слово: Перм в статье Башня смерти (Пермь) — Википедия\n",
            "\n",
            "\n",
            "Название статьи - Губернатор Пермского края — Википедия; URL - https://ru.wikipedia.org/wiki/Губернатор_Пермского_края\n",
            "Ключевое слово: Перм в статье Губернатор Пермского края — Википедия\n",
            "\n",
            "\n",
            "Название статьи - Ельники (Пермский край) — Википедия; URL - https://ru.wikipedia.org/wiki/Ельники_(Пермский_край)\n",
            "Ключевое слово: Перм в статье Ельники (Пермский край) — Википедия\n",
            "\n",
            "\n",
            "Название статьи - Звёздный (Пермский край) — Википедия; URL - https://ru.wikipedia.org/wiki/Звёздный_(Пермский_край)\n",
            "Ключевое слово: Перм в статье Звёздный (Пермский край) — Википедия\n",
            "\n",
            "\n",
            "Название статьи - Административно-территориальное деление Пермского края — Википедия; URL - https://ru.wikipedia.org/wiki/Административно-территориальное_деление_Пермского_края\n",
            "Ключевое слово: Перм в статье Административно-территориальное деление Пермского края — Википедия\n",
            "\n",
            "\n",
            "Название статьи - Берёзовский район (Пермский край) — Википедия; URL - https://ru.wikipedia.org/wiki/Берёзовский_район_(Пермский_край)\n",
            "Ключевое слово: Перм в статье Берёзовский район (Пермский край) — Википедия\n",
            "\n",
            "\n",
            "Название статьи - Заслуженный профессор МГУ — Википедия; URL - https://ru.wikipedia.org/wiki/Заслуженный_профессор_МГУ\n",
            "Ключевое слово: МГУ в статье Заслуженный профессор МГУ — Википедия\n",
            "Ключевое слово: Московский государственный университет в статье Заслуженный профессор МГУ — Википедия\n",
            "\n",
            "\n",
            "Название статьи - Ильинский район (Пермский край) — Википедия; URL - https://ru.wikipedia.org/wiki/Ильинский_район_(Пермский_край)\n",
            "Ключевое слово: Перм в статье Ильинский район (Пермский край) — Википедия\n",
            "\n",
            "\n",
            "Название статьи - Историко-филологический факультет Пермского государственного университета — Википедия; URL - https://ru.wikipedia.org/wiki/Историко-филологический_факультет_ПермГУ\n",
            "Ключевое слово: Перм в статье Историко-филологический факультет Пермского государственного университета — Википедия\n",
            "Ключевое слово: МГУ в статье Историко-филологический факультет Пермского государственного университета — Википедия\n",
            "\n",
            "\n",
            "Название статьи - Александровск (Пермский край) — Википедия; URL - https://ru.wikipedia.org/wiki/Александровск_(Пермский_край)\n",
            "Ключевое слово: Перм в статье Александровск (Пермский край) — Википедия\n",
            "\n",
            "\n",
            "Название статьи - Геологический факультет МГУ — Википедия; URL - https://ru.wikipedia.org/wiki/Геологический_факультет_МГУ\n",
            "Ключевое слово: МГУ в статье Геологический факультет МГУ — Википедия\n",
            "Ключевое слово: Московский государственный университет в статье Геологический факультет МГУ — Википедия\n",
            "\n",
            "\n",
            "Название статьи - Главное здание МГУ — Википедия; URL - https://ru.wikipedia.org/wiki/Главное_здание_МГУ\n",
            "Ключевое слово: МГУ в статье Главное здание МГУ — Википедия\n",
            "Ключевое слово: Московский государственный университет в статье Главное здание МГУ — Википедия\n",
            "\n",
            "\n",
            "Название статьи - Категория:Выпускники исторического факультета МГУ — Википедия; URL - https://ru.wikipedia.org/wiki/Категория:Выпускники_исторического_факультета_МГУ\n",
            "Ключевое слово: МГУ в статье Категория:Выпускники исторического факультета МГУ — Википедия\n",
            "\n",
            "\n",
            "Название статьи - Категория:Заслуженные профессора МГУ — Википедия; URL - https://ru.wikipedia.org/wiki/Категория:Заслуженные_профессора_МГУ\n",
            "Ключевое слово: МГУ в статье Категория:Заслуженные профессора МГУ — Википедия\n",
            "\n",
            "\n",
            "Название статьи - Факультет вычислительной математики и кибернетики МГУ — Википедия; URL - https://ru.wikipedia.org/wiki/ВМК_МГУ\n",
            "Ключевое слово: МГУ в статье Факультет вычислительной математики и кибернетики МГУ — Википедия\n",
            "Ключевое слово: Московский государственный университет в статье Факультет вычислительной математики и кибернетики МГУ — Википедия\n",
            "\n",
            "\n",
            "Название статьи - Александровск (Пермский край) — Википедия; URL - https://ru.wikipedia.org/wiki/Александровск_(Пермский_край)\n",
            "Ключевое слово: Перм в статье Александровск (Пермский край) — Википедия\n",
            "\n",
            "\n",
            "Название статьи - Дом аспиранта и стажёра МГУ — Википедия; URL - https://ru.wikipedia.org/wiki/Дом_аспиранта_и_стажёра_МГУ\n",
            "Ключевое слово: МГУ в статье Дом аспиранта и стажёра МГУ — Википедия\n",
            "Ключевое слово: Московский государственный университет в статье Дом аспиранта и стажёра МГУ — Википедия\n",
            "\n",
            "\n",
            "Название статьи - Звезда (футбольный клуб, Пермь) — Википедия; URL - https://ru.wikipedia.org/wiki/Звезда_(футбольный_клуб,_Пермь)\n",
            "Ключевое слово: Перм в статье Звезда (футбольный клуб, Пермь) — Википедия\n",
            "\n",
            "\n",
            "Название статьи - Географический факультет МГУ — Википедия; URL - https://ru.wikipedia.org/wiki/Географический_факультет_МГУ\n",
            "Ключевое слово: МГУ в статье Географический факультет МГУ — Википедия\n",
            "Ключевое слово: Московский государственный университет в статье Географический факультет МГУ — Википедия\n",
            "\n",
            "\n",
            "Название статьи - Законодательное собрание Пермского края — Википедия; URL - https://ru.wikipedia.org/wiki/Законодательное_собрание_Пермского_края\n",
            "Ключевое слово: Перм в статье Законодательное собрание Пермского края — Википедия\n",
            "\n",
            "\n"
          ]
        }
      ]
    }
  ]
}