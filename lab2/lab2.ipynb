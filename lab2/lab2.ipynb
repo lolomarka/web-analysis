{
 "cells": [
  {
   "cell_type": "code",
   "execution_count": 186,
   "metadata": {},
   "outputs": [
    {
     "data": {
      "text/plain": [
       "'https://pstu.ru/activity/educational/high/fgos/'"
      ]
     },
     "execution_count": 186,
     "metadata": {},
     "output_type": "execute_result"
    }
   ],
   "source": [
    "# https://pstu.ru/sveden/education/\n",
    "# https://pstu.ru/activity/educational/high/fgos/\n",
    "# url = input()\n",
    "url = 'https://pstu.ru/activity/educational/high/fgos/'\n",
    "url"
   ]
  },
  {
   "cell_type": "code",
   "execution_count": 187,
   "metadata": {},
   "outputs": [],
   "source": [
    "import os\n",
    "from urllib.parse import urlparse\n",
    "\n",
    "def make_root_dir_path(url : str, base_url:str=None) -> str:\n",
    "    if not base_url:\n",
    "        curdir = os.path.abspath(os.curdir)\n",
    "    else:\n",
    "        curdir = make_root_dir_path(base_url)\n",
    "    parsed_url = urlparse(url)\n",
    "    domen = parsed_url.netloc.replace('.', '').replace('/', '')\n",
    "    path = parsed_url.path.replace('/', '')\n",
    "    dir_name = domen+path\n",
    "    dir_path = os.path.join(curdir, dir_name)\n",
    "\n",
    "    return dir_path\n",
    "\n",
    "# make_root_dir_path('https://abcd.local/boring','https://abcd.local')\n",
    "\n",
    "def make_root_dir(url : str, base_url:str=None) -> str:\n",
    "    path = make_root_dir_path(url, base_url)\n",
    "\n",
    "    if not os.path.exists(path):\n",
    "        os.makedirs(path)\n",
    "    return path"
   ]
  },
  {
   "cell_type": "code",
   "execution_count": 199,
   "metadata": {},
   "outputs": [],
   "source": [
    "import urllib.request\n",
    "import requests\n",
    "from bs4 import BeautifulSoup\n",
    "from urllib.parse import urljoin\n",
    "import shutil\n",
    "# from urllib.parse import quote_plus\n",
    "\n",
    "def request_not_pdf_links(url : str) -> list:\n",
    "    response = requests.get(url)\n",
    "    soup = BeautifulSoup(response.text, 'html.parser')\n",
    "    links = []\n",
    "    for link in soup.find_all('a', href=True):\n",
    "        href = link['href']\n",
    "        if not href.lower().endswith('.pdf'):\n",
    "            links.append(urljoin(url, href))\n",
    "    return list(set(links))\n",
    "\n",
    "def request_pdf_links(url : str) -> list:\n",
    "    response = requests.get(url)\n",
    "    soup = BeautifulSoup(response.text, 'html.parser')\n",
    "    links = []\n",
    "    for link in soup.find_all('a', href=True):\n",
    "        href = link['href']\n",
    "        lower_href = href.lower()\n",
    "        if lower_href.endswith('.pdf'):\n",
    "            links.append(href)\n",
    "    return list(set(links))\n",
    "\n",
    "def download_pdfs(url : str, loaded_files : set, base_url:str=None) -> list:\n",
    "    page_file_path = make_root_dir(url, base_url)\n",
    "    file_links = request_pdf_links(url)\n",
    "    parsed_url = urlparse(url)\n",
    "    root_url = '://'.join([ parsed_url.scheme, parsed_url.netloc ])\n",
    "    file_pathes = []\n",
    "    for file_link in file_links:\n",
    "        if os.path.basename(file_link) in loaded_files:\n",
    "            continue\n",
    "        file_url = urljoin(root_url, file_link.replace(' ', '%20')).encode().decode()\n",
    "        file_path = os.path.join(page_file_path, os.path.basename(file_link))\n",
    "        if not os.path.exists(file_path):\n",
    "            response = requests.get(file_url)\n",
    "            content_type = response.headers.get('content-type')\n",
    "            if response.status_code == 200 and content_type == 'application/pdf':\n",
    "                file_content = response.content\n",
    "                with open(file_path, 'wb') as file:\n",
    "                    file.write(file_content)\n",
    "            else:\n",
    "                continue\n",
    "        file_pathes.append(file_path)\n",
    "    return list(set(file_pathes))\n",
    "\n",
    "# download_pdfs(url)"
   ]
  },
  {
   "cell_type": "code",
   "execution_count": 189,
   "metadata": {},
   "outputs": [],
   "source": [
    "# import requests\n",
    "# import os\n",
    "# content = requests.get('https://pstu.ru/files/file/Abitur/%D0%91%D0%A3%D0%9F%D1%8B/2019/%7B8b61fce0-770b-443b-a572-f3b72fe8f412%7D.pdf').content\n",
    "# os.makedirs('./tmp/')\n",
    "# with open('./tmp/test.pdf', 'wb') as file:\n",
    "#     file.write(content)"
   ]
  },
  {
   "cell_type": "code",
   "execution_count": 190,
   "metadata": {},
   "outputs": [],
   "source": [
    "# !sudo dnf install ocrmypdf tesseract-osd \n",
    "# !sudo dnf install tesseract-langpack-rus\n",
    "# !pip3 install ocrmypdf"
   ]
  },
  {
   "cell_type": "code",
   "execution_count": 191,
   "metadata": {},
   "outputs": [],
   "source": [
    "from pypdf import PdfReader\n",
    "import ocrmypdf\n",
    "\n",
    "def get_pdf_reader_text(pdf_reader: PdfReader) -> str:\n",
    "    text = str()\n",
    "    for page in pdf_reader.pages:\n",
    "        text += '\\n' + (page.extract_text())\n",
    "    return text\n",
    "\n",
    "def extract_text_from_pdf(pdf_path : str):\n",
    "    try:\n",
    "        reader = PdfReader(pdf_path)\n",
    "        if not reader.metadata:\n",
    "            return\n",
    "        text = get_pdf_reader_text(reader)\n",
    "        if text.strip():\n",
    "            return text\n",
    "    except:\n",
    "        pass\n",
    "    ocrmypdf.ocr(pdf_path, pdf_path, language=['rus','eng'], optimize=1, redo_ocr=True)\n",
    "    reader = PdfReader(pdf_path)    \n",
    "    return get_pdf_reader_text(reader)\n",
    "\n",
    "def save_text_from_pdf(pdf_path : str):\n",
    "    text = extract_text_from_pdf(pdf_path)\n",
    "    dir_name = os.path.dirname(pdf_path)\n",
    "    file_name = os.path.basename(pdf_path)\n",
    "    file_name_no_extention = os.path.splitext(file_name)[0]\n",
    "    target_path = os.path.join(dir_name, file_name_no_extention + '.txt')\n",
    "    \n",
    "    with open(target_path, 'wb') as file:\n",
    "        try:\n",
    "            file.write(text.encode())\n",
    "            print(f'completed: {target_path}')\n",
    "        except:\n",
    "            print(f'Failed: {target_path}')\n",
    "            pass\n",
    "        finally:\n",
    "            file.close()\n",
    "\n",
    "def load_pdf_and_text(url : str, loaded_files : set, base_url:str = None) -> list:\n",
    "    file_pathes = download_pdfs(url, loaded_files, base_url)\n",
    "    for file_path in file_pathes:\n",
    "        save_text_from_pdf(file_path)\n",
    "    return file_pathes\n",
    "\n",
    "# load_pdf_and_text(url)\n",
    "\n"
   ]
  },
  {
   "cell_type": "code",
   "execution_count": 192,
   "metadata": {},
   "outputs": [],
   "source": [
    "import tarfile\n",
    "import shutil\n",
    "\n",
    "def compress_folder_to_file(output_filename : str, source_dir : str, remove_source_dir=False):\n",
    "    if os.path.exists(output_filename):\n",
    "        os.remove(output_filename)\n",
    "    with tarfile.open(output_filename, 'w:gz') as tar:\n",
    "        tar.add(source_dir, arcname=os.path.basename(source_dir), recursive=True)\n",
    "    \n",
    "    if remove_source_dir:\n",
    "        shutil.rmtree(source_dir, ignore_errors=True)\n",
    "\n",
    "# dir_path = make_root_dir_path(url)\n",
    "# compress_folder_to_file(dir_path + '.tar.gz', dir_path)"
   ]
  },
  {
   "cell_type": "code",
   "execution_count": 200,
   "metadata": {},
   "outputs": [
    {
     "ename": "KeyboardInterrupt",
     "evalue": "",
     "output_type": "error",
     "traceback": [
      "\u001b[0;31m---------------------------------------------------------------------------\u001b[0m",
      "\u001b[0;31mKeyboardInterrupt\u001b[0m                         Traceback (most recent call last)",
      "Cell \u001b[0;32mIn[200], line 18\u001b[0m\n\u001b[1;32m     15\u001b[0m         dir_path \u001b[38;5;241m=\u001b[39m make_root_dir_path(url)\n\u001b[1;32m     16\u001b[0m         compress_folder_to_file(dir_path \u001b[38;5;241m+\u001b[39m \u001b[38;5;124m'\u001b[39m\u001b[38;5;124m.tar.gz\u001b[39m\u001b[38;5;124m'\u001b[39m, dir_path)\n\u001b[0;32m---> 18\u001b[0m \u001b[43mtraverse\u001b[49m\u001b[43m(\u001b[49m\u001b[43murl\u001b[49m\u001b[43m)\u001b[49m\n",
      "Cell \u001b[0;32mIn[200], line 7\u001b[0m, in \u001b[0;36mtraverse\u001b[0;34m(url, level, base_url)\u001b[0m\n\u001b[1;32m      5\u001b[0m \u001b[38;5;28;01mif\u001b[39;00m level \u001b[38;5;241m>\u001b[39m\u001b[38;5;241m=\u001b[39m max_level:\n\u001b[1;32m      6\u001b[0m     \u001b[38;5;28;01mreturn\u001b[39;00m\n\u001b[0;32m----> 7\u001b[0m \u001b[38;5;28;01mfor\u001b[39;00m loaded_file \u001b[38;5;129;01min\u001b[39;00m \u001b[43mload_pdf_and_text\u001b[49m\u001b[43m(\u001b[49m\u001b[43murl\u001b[49m\u001b[43m,\u001b[49m\u001b[43m \u001b[49m\u001b[43mloaded_files\u001b[49m\u001b[43m,\u001b[49m\u001b[43m \u001b[49m\u001b[43mbase_url\u001b[49m\u001b[43m)\u001b[49m:\n\u001b[1;32m      8\u001b[0m     loaded_files\u001b[38;5;241m.\u001b[39madd(os\u001b[38;5;241m.\u001b[39mpath\u001b[38;5;241m.\u001b[39mbasename(loaded_file))\n\u001b[1;32m     10\u001b[0m not_file_link \u001b[38;5;241m=\u001b[39m request_not_pdf_links(url)\n",
      "Cell \u001b[0;32mIn[191], line 42\u001b[0m, in \u001b[0;36mload_pdf_and_text\u001b[0;34m(url, loaded_files, base_url)\u001b[0m\n\u001b[1;32m     41\u001b[0m \u001b[38;5;28;01mdef\u001b[39;00m \u001b[38;5;21mload_pdf_and_text\u001b[39m(url : \u001b[38;5;28mstr\u001b[39m, loaded_files : \u001b[38;5;28mset\u001b[39m, base_url:\u001b[38;5;28mstr\u001b[39m \u001b[38;5;241m=\u001b[39m \u001b[38;5;28;01mNone\u001b[39;00m) \u001b[38;5;241m-\u001b[39m\u001b[38;5;241m>\u001b[39m \u001b[38;5;28mlist\u001b[39m:\n\u001b[0;32m---> 42\u001b[0m     file_pathes \u001b[38;5;241m=\u001b[39m \u001b[43mdownload_pdfs\u001b[49m\u001b[43m(\u001b[49m\u001b[43murl\u001b[49m\u001b[43m,\u001b[49m\u001b[43m \u001b[49m\u001b[43mloaded_files\u001b[49m\u001b[43m,\u001b[49m\u001b[43m \u001b[49m\u001b[43mbase_url\u001b[49m\u001b[43m)\u001b[49m\n\u001b[1;32m     43\u001b[0m     \u001b[38;5;28;01mfor\u001b[39;00m file_path \u001b[38;5;129;01min\u001b[39;00m file_pathes:\n\u001b[1;32m     44\u001b[0m         save_text_from_pdf(file_path)\n",
      "Cell \u001b[0;32mIn[199], line 43\u001b[0m, in \u001b[0;36mdownload_pdfs\u001b[0;34m(url, loaded_files, base_url)\u001b[0m\n\u001b[1;32m     41\u001b[0m response \u001b[38;5;241m=\u001b[39m requests\u001b[38;5;241m.\u001b[39mget(file_url)\n\u001b[1;32m     42\u001b[0m content_type \u001b[38;5;241m=\u001b[39m response\u001b[38;5;241m.\u001b[39mheaders\u001b[38;5;241m.\u001b[39mget(\u001b[38;5;124m'\u001b[39m\u001b[38;5;124mcontent-type\u001b[39m\u001b[38;5;124m'\u001b[39m)\n\u001b[0;32m---> 43\u001b[0m \u001b[38;5;28;01mif\u001b[39;00m \u001b[43mresponse\u001b[49m\u001b[38;5;241m.\u001b[39mstatus_code \u001b[38;5;241m==\u001b[39m \u001b[38;5;241m200\u001b[39m \u001b[38;5;129;01mand\u001b[39;00m content_type:\n\u001b[1;32m     44\u001b[0m     file_content \u001b[38;5;241m=\u001b[39m response\u001b[38;5;241m.\u001b[39mcontent\n\u001b[1;32m     45\u001b[0m     \u001b[38;5;28;01mwith\u001b[39;00m \u001b[38;5;28mopen\u001b[39m(file_path, \u001b[38;5;124m'\u001b[39m\u001b[38;5;124mwb\u001b[39m\u001b[38;5;124m'\u001b[39m) \u001b[38;5;28;01mas\u001b[39;00m file:\n",
      "File \u001b[0;32m<stringsource>:69\u001b[0m, in \u001b[0;36mcfunc.to_py.__Pyx_CFunc_b0409f__29_pydevd_sys_monitoring_cython_object__lParen__etc_to_py_4code_4line.wrap\u001b[0;34m()\u001b[0m\n",
      "File \u001b[0;32m_pydevd_sys_monitoring\\\\_pydevd_sys_monitoring_cython.pyx:1429\u001b[0m, in \u001b[0;36m_pydevd_sys_monitoring_cython._line_event\u001b[0;34m()\u001b[0m\n",
      "File \u001b[0;32m_pydevd_sys_monitoring\\\\_pydevd_sys_monitoring_cython.pyx:1471\u001b[0m, in \u001b[0;36m_pydevd_sys_monitoring_cython._internal_line_event\u001b[0;34m()\u001b[0m\n",
      "File \u001b[0;32m_pydevd_sys_monitoring\\\\_pydevd_sys_monitoring_cython.pyx:1278\u001b[0m, in \u001b[0;36m_pydevd_sys_monitoring_cython._stop_on_breakpoint\u001b[0;34m()\u001b[0m\n",
      "File \u001b[0;32m_pydevd_sys_monitoring\\\\_pydevd_sys_monitoring_cython.pyx:1906\u001b[0m, in \u001b[0;36m_pydevd_sys_monitoring_cython._do_wait_suspend\u001b[0;34m()\u001b[0m\n",
      "File \u001b[0;32m~/Documents/web-analysis/.venv/lib64/python3.12/site-packages/debugpy/_vendored/pydevd/pydevd.py:2197\u001b[0m, in \u001b[0;36mPyDB.do_wait_suspend\u001b[0;34m(self, thread, frame, event, arg, exception_type)\u001b[0m\n\u001b[1;32m   2194\u001b[0m             from_this_thread\u001b[38;5;241m.\u001b[39mappend(frame_custom_thread_id)\n\u001b[1;32m   2196\u001b[0m     \u001b[38;5;28;01mwith\u001b[39;00m \u001b[38;5;28mself\u001b[39m\u001b[38;5;241m.\u001b[39m_threads_suspended_single_notification\u001b[38;5;241m.\u001b[39mnotify_thread_suspended(thread_id, thread, stop_reason):\n\u001b[0;32m-> 2197\u001b[0m         keep_suspended \u001b[38;5;241m=\u001b[39m \u001b[38;5;28;43mself\u001b[39;49m\u001b[38;5;241;43m.\u001b[39;49m\u001b[43m_do_wait_suspend\u001b[49m\u001b[43m(\u001b[49m\u001b[43mthread\u001b[49m\u001b[43m,\u001b[49m\u001b[43m \u001b[49m\u001b[43mframe\u001b[49m\u001b[43m,\u001b[49m\u001b[43m \u001b[49m\u001b[43mevent\u001b[49m\u001b[43m,\u001b[49m\u001b[43m \u001b[49m\u001b[43marg\u001b[49m\u001b[43m,\u001b[49m\u001b[43m \u001b[49m\u001b[43mtrace_suspend_type\u001b[49m\u001b[43m,\u001b[49m\u001b[43m \u001b[49m\u001b[43mfrom_this_thread\u001b[49m\u001b[43m,\u001b[49m\u001b[43m \u001b[49m\u001b[43mframes_tracker\u001b[49m\u001b[43m)\u001b[49m\n\u001b[1;32m   2199\u001b[0m frames_list \u001b[38;5;241m=\u001b[39m \u001b[38;5;28;01mNone\u001b[39;00m\n\u001b[1;32m   2201\u001b[0m \u001b[38;5;28;01mif\u001b[39;00m keep_suspended:\n\u001b[1;32m   2202\u001b[0m     \u001b[38;5;66;03m# This means that we should pause again after a set next statement.\u001b[39;00m\n",
      "File \u001b[0;32m~/Documents/web-analysis/.venv/lib64/python3.12/site-packages/debugpy/_vendored/pydevd/pydevd.py:2266\u001b[0m, in \u001b[0;36mPyDB._do_wait_suspend\u001b[0;34m(self, thread, frame, event, arg, trace_suspend_type, from_this_thread, frames_tracker)\u001b[0m\n\u001b[1;32m   2263\u001b[0m                 queue\u001b[38;5;241m.\u001b[39mput(internal_cmd)\n\u001b[1;32m   2264\u001b[0m                 wait_timeout \u001b[38;5;241m=\u001b[39m TIMEOUT_FAST\n\u001b[0;32m-> 2266\u001b[0m         \u001b[43mnotify_event\u001b[49m\u001b[38;5;241;43m.\u001b[39;49m\u001b[43mwait\u001b[49m\u001b[43m(\u001b[49m\u001b[43mwait_timeout\u001b[49m\u001b[43m)\u001b[49m\n\u001b[1;32m   2267\u001b[0m         notify_event\u001b[38;5;241m.\u001b[39mclear()\n\u001b[1;32m   2269\u001b[0m \u001b[38;5;28;01mfinally\u001b[39;00m:\n",
      "File \u001b[0;32m/usr/lib64/python3.12/threading.py:655\u001b[0m, in \u001b[0;36mEvent.wait\u001b[0;34m(self, timeout)\u001b[0m\n\u001b[1;32m    653\u001b[0m signaled \u001b[38;5;241m=\u001b[39m \u001b[38;5;28mself\u001b[39m\u001b[38;5;241m.\u001b[39m_flag\n\u001b[1;32m    654\u001b[0m \u001b[38;5;28;01mif\u001b[39;00m \u001b[38;5;129;01mnot\u001b[39;00m signaled:\n\u001b[0;32m--> 655\u001b[0m     signaled \u001b[38;5;241m=\u001b[39m \u001b[38;5;28;43mself\u001b[39;49m\u001b[38;5;241;43m.\u001b[39;49m\u001b[43m_cond\u001b[49m\u001b[38;5;241;43m.\u001b[39;49m\u001b[43mwait\u001b[49m\u001b[43m(\u001b[49m\u001b[43mtimeout\u001b[49m\u001b[43m)\u001b[49m\n\u001b[1;32m    656\u001b[0m \u001b[38;5;28;01mreturn\u001b[39;00m signaled\n",
      "File \u001b[0;32m/usr/lib64/python3.12/threading.py:359\u001b[0m, in \u001b[0;36mCondition.wait\u001b[0;34m(self, timeout)\u001b[0m\n\u001b[1;32m    357\u001b[0m \u001b[38;5;28;01melse\u001b[39;00m:\n\u001b[1;32m    358\u001b[0m     \u001b[38;5;28;01mif\u001b[39;00m timeout \u001b[38;5;241m>\u001b[39m \u001b[38;5;241m0\u001b[39m:\n\u001b[0;32m--> 359\u001b[0m         gotit \u001b[38;5;241m=\u001b[39m \u001b[43mwaiter\u001b[49m\u001b[38;5;241;43m.\u001b[39;49m\u001b[43macquire\u001b[49m\u001b[43m(\u001b[49m\u001b[38;5;28;43;01mTrue\u001b[39;49;00m\u001b[43m,\u001b[49m\u001b[43m \u001b[49m\u001b[43mtimeout\u001b[49m\u001b[43m)\u001b[49m\n\u001b[1;32m    360\u001b[0m     \u001b[38;5;28;01melse\u001b[39;00m:\n\u001b[1;32m    361\u001b[0m         gotit \u001b[38;5;241m=\u001b[39m waiter\u001b[38;5;241m.\u001b[39macquire(\u001b[38;5;28;01mFalse\u001b[39;00m)\n",
      "\u001b[0;31mKeyboardInterrupt\u001b[0m: "
     ]
    }
   ],
   "source": [
    "max_level = 2\n",
    "loaded_files = set()\n",
    "\n",
    "def traverse(url : str, level = 0, base_url=None):\n",
    "    if level >= max_level:\n",
    "        return\n",
    "    for loaded_file in load_pdf_and_text(url, loaded_files, base_url):\n",
    "        loaded_files.add(os.path.basename(loaded_file))\n",
    "\n",
    "    not_file_link = request_not_pdf_links(url)\n",
    "    for link in not_file_link:\n",
    "        traverse(link, level + 1, url)\n",
    "\n",
    "    if level == 0:\n",
    "        dir_path = make_root_dir_path(url)\n",
    "        compress_folder_to_file(dir_path + '.tar.gz', dir_path)\n",
    "\n",
    "traverse(url)"
   ]
  }
 ],
 "metadata": {
  "kernelspec": {
   "display_name": ".venv",
   "language": "python",
   "name": "python3"
  },
  "language_info": {
   "codemirror_mode": {
    "name": "ipython",
    "version": 3
   },
   "file_extension": ".py",
   "mimetype": "text/x-python",
   "name": "python",
   "nbconvert_exporter": "python",
   "pygments_lexer": "ipython3",
   "version": "3.12.7"
  }
 },
 "nbformat": 4,
 "nbformat_minor": 2
}
