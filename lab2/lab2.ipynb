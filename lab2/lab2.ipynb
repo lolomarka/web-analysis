{
 "cells": [
  {
   "cell_type": "code",
   "execution_count": 202,
   "metadata": {},
   "outputs": [
    {
     "data": {
      "text/plain": [
       "'https://pstu.ru/activity/educational/high/fgos/'"
      ]
     },
     "execution_count": 202,
     "metadata": {},
     "output_type": "execute_result"
    }
   ],
   "source": [
    "# https://pstu.ru/sveden/education/\n",
    "# https://pstu.ru/activity/educational/high/fgos/\n",
    "# url = input()\n",
    "url = 'https://pstu.ru/activity/educational/high/fgos/'\n",
    "url"
   ]
  },
  {
   "cell_type": "code",
   "execution_count": 203,
   "metadata": {},
   "outputs": [],
   "source": [
    "import os\n",
    "from urllib.parse import urlparse\n",
    "\n",
    "def make_root_dir_path(url : str, base_url:str=None) -> str:\n",
    "    if not base_url:\n",
    "        curdir = os.path.abspath(os.curdir)\n",
    "    else:\n",
    "        curdir = make_root_dir_path(base_url)\n",
    "    parsed_url = urlparse(url)\n",
    "    domen = parsed_url.netloc.replace('.', '').replace('/', '')\n",
    "    path = parsed_url.path.replace('/', '')\n",
    "    dir_name = domen+path\n",
    "    dir_path = os.path.join(curdir, dir_name)\n",
    "\n",
    "    return dir_path\n",
    "\n",
    "# make_root_dir_path('https://abcd.local/boring','https://abcd.local')\n",
    "\n",
    "def make_root_dir(url : str, base_url:str=None) -> str:\n",
    "    path = make_root_dir_path(url, base_url)\n",
    "\n",
    "    if not os.path.exists(path):\n",
    "        os.makedirs(path)\n",
    "    return path"
   ]
  },
  {
   "cell_type": "code",
   "execution_count": 204,
   "metadata": {},
   "outputs": [],
   "source": [
    "import urllib.request\n",
    "import requests\n",
    "from bs4 import BeautifulSoup\n",
    "from urllib.parse import urljoin\n",
    "import shutil\n",
    "# from urllib.parse import quote_plus\n",
    "\n",
    "def request_not_pdf_links(url : str) -> list:\n",
    "    response = requests.get(url)\n",
    "    soup = BeautifulSoup(response.text, 'html.parser')\n",
    "    links = []\n",
    "    for link in soup.find_all('a', href=True):\n",
    "        href = link['href']\n",
    "        if not href.lower().endswith('.pdf'):\n",
    "            links.append(urljoin(url, href))\n",
    "    return list(set(links))\n",
    "\n",
    "def request_pdf_links(url : str) -> list:\n",
    "    response = requests.get(url)\n",
    "    soup = BeautifulSoup(response.text, 'html.parser')\n",
    "    links = []\n",
    "    for link in soup.find_all('a', href=True):\n",
    "        href = link['href']\n",
    "        lower_href = href.lower()\n",
    "        if lower_href.endswith('.pdf'):\n",
    "            links.append(href)\n",
    "    return list(set(links))\n",
    "\n",
    "def download_pdfs(url : str, loaded_files : set, base_url:str=None) -> list:\n",
    "    page_file_path = make_root_dir(url, base_url)\n",
    "    file_links = request_pdf_links(url)\n",
    "    parsed_url = urlparse(url)\n",
    "    root_url = '://'.join([ parsed_url.scheme, parsed_url.netloc ])\n",
    "    file_pathes = []\n",
    "    for file_link in file_links:\n",
    "        if os.path.basename(file_link) in loaded_files:\n",
    "            continue\n",
    "        file_url = urljoin(root_url, file_link.replace(' ', '%20')).encode().decode()\n",
    "        file_path = os.path.join(page_file_path, os.path.basename(file_link))\n",
    "        if not os.path.exists(file_path):\n",
    "            response = requests.get(file_url)\n",
    "            content_type = response.headers.get('content-type')\n",
    "            if response.status_code == 200 and content_type == 'application/pdf':\n",
    "                file_content = response.content\n",
    "                with open(file_path, 'wb') as file:\n",
    "                    file.write(file_content)\n",
    "            else:\n",
    "                continue\n",
    "        file_pathes.append(file_path)\n",
    "    return list(set(file_pathes))\n",
    "\n",
    "# download_pdfs(url)"
   ]
  },
  {
   "cell_type": "code",
   "execution_count": 205,
   "metadata": {},
   "outputs": [],
   "source": [
    "# import requests\n",
    "# import os\n",
    "# content = requests.get('https://pstu.ru/files/file/Abitur/%D0%91%D0%A3%D0%9F%D1%8B/2019/%7B8b61fce0-770b-443b-a572-f3b72fe8f412%7D.pdf').content\n",
    "# os.makedirs('./tmp/')\n",
    "# with open('./tmp/test.pdf', 'wb') as file:\n",
    "#     file.write(content)"
   ]
  },
  {
   "cell_type": "code",
   "execution_count": 206,
   "metadata": {},
   "outputs": [],
   "source": [
    "# !sudo dnf install ocrmypdf tesseract-osd \n",
    "# !sudo dnf install tesseract-langpack-rus\n",
    "# !pip3 install ocrmypdf"
   ]
  },
  {
   "cell_type": "code",
   "execution_count": 207,
   "metadata": {},
   "outputs": [],
   "source": [
    "from pypdf import PdfReader\n",
    "import ocrmypdf\n",
    "\n",
    "def get_pdf_reader_text(pdf_reader: PdfReader) -> str:\n",
    "    text = str()\n",
    "    for page in pdf_reader.pages:\n",
    "        text += '\\n' + (page.extract_text())\n",
    "    return text\n",
    "\n",
    "def extract_text_from_pdf(pdf_path : str):\n",
    "    try:\n",
    "        reader = PdfReader(pdf_path)\n",
    "        if not reader.metadata:\n",
    "            return\n",
    "        text = get_pdf_reader_text(reader)\n",
    "        if text.strip():\n",
    "            return text\n",
    "    except:\n",
    "        pass\n",
    "    ocrmypdf.ocr(pdf_path, pdf_path, language=['rus','eng'], optimize=1, redo_ocr=True)\n",
    "    reader = PdfReader(pdf_path)    \n",
    "    return get_pdf_reader_text(reader)\n",
    "\n",
    "def save_text_from_pdf(pdf_path : str):\n",
    "    text = extract_text_from_pdf(pdf_path)\n",
    "    dir_name = os.path.dirname(pdf_path)\n",
    "    file_name = os.path.basename(pdf_path)\n",
    "    file_name_no_extention = os.path.splitext(file_name)[0]\n",
    "    target_path = os.path.join(dir_name, file_name_no_extention + '.txt')\n",
    "    \n",
    "    with open(target_path, 'wb') as file:\n",
    "        try:\n",
    "            file.write(text.encode())\n",
    "            print(f'completed: {target_path}')\n",
    "        except:\n",
    "            print(f'Failed: {target_path}')\n",
    "            pass\n",
    "        finally:\n",
    "            file.close()\n",
    "\n",
    "def load_pdf_and_text(url : str, loaded_files : set, base_url:str = None) -> list:\n",
    "    file_pathes = download_pdfs(url, loaded_files, base_url)\n",
    "    for file_path in file_pathes:\n",
    "        save_text_from_pdf(file_path)\n",
    "    return file_pathes\n",
    "\n",
    "# load_pdf_and_text(url)\n",
    "\n"
   ]
  },
  {
   "cell_type": "code",
   "execution_count": 208,
   "metadata": {},
   "outputs": [],
   "source": [
    "import tarfile\n",
    "import shutil\n",
    "\n",
    "def compress_folder_to_file(output_filename : str, source_dir : str, remove_source_dir=False):\n",
    "    if os.path.exists(output_filename):\n",
    "        os.remove(output_filename)\n",
    "    with tarfile.open(output_filename, 'w:gz') as tar:\n",
    "        tar.add(source_dir, arcname=os.path.basename(source_dir), recursive=True)\n",
    "    \n",
    "    if remove_source_dir:\n",
    "        shutil.rmtree(source_dir, ignore_errors=True)\n",
    "\n",
    "# dir_path = make_root_dir_path(url)\n",
    "# compress_folder_to_file(dir_path + '.tar.gz', dir_path)"
   ]
  },
  {
   "cell_type": "code",
   "execution_count": 212,
   "metadata": {},
   "outputs": [],
   "source": [
    "max_level = 2\n",
    "loaded_files = set()\n",
    "\n",
    "def traverse(url : str, level = 0, base_url=None) -> None:\n",
    "    if level >= max_level:\n",
    "        return\n",
    "    for loaded_file in load_pdf_and_text(url, loaded_files, base_url):\n",
    "        loaded_files.add(os.path.basename(loaded_file))\n",
    "\n",
    "    not_file_link = request_not_pdf_links(url)\n",
    "    for link in not_file_link:\n",
    "        traverse(link, level + 1, url)\n",
    "\n",
    "    if level == 0:\n",
    "        dir_path = make_root_dir_path(url)\n",
    "        compress_folder_to_file(dir_path + '.tar.gz', dir_path)\n",
    "\n",
    "traverse(url)"
   ]
  },
  {
   "cell_type": "code",
   "execution_count": 213,
   "metadata": {},
   "outputs": [
    {
     "data": {
      "application/vnd.jupyter.widget-view+json": {
       "model_id": "206a9080cd6a4346807ae319f1a013b5",
       "version_major": 2,
       "version_minor": 0
      },
      "text/plain": [
       "Output()"
      ]
     },
     "metadata": {},
     "output_type": "display_data"
    },
    {
     "data": {
      "text/html": [
       "<pre style=\"white-space:pre;overflow-x:auto;line-height:normal;font-family:Menlo,'DejaVu Sans Mono',consolas,'Courier New',monospace\"></pre>\n"
      ],
      "text/plain": []
     },
     "metadata": {},
     "output_type": "display_data"
    },
    {
     "data": {
      "application/vnd.jupyter.widget-view+json": {
       "model_id": "46262fb603aa4d21a87f44dfd8ef5450",
       "version_major": 2,
       "version_minor": 0
      },
      "text/plain": [
       "Output()"
      ]
     },
     "metadata": {},
     "output_type": "display_data"
    },
    {
     "data": {
      "text/html": [
       "<pre style=\"white-space:pre;overflow-x:auto;line-height:normal;font-family:Menlo,'DejaVu Sans Mono',consolas,'Courier New',monospace\">[tesseract] lots of diacritics - possibly poor OCR\n",
       "</pre>\n"
      ],
      "text/plain": [
       "[tesseract] lots of diacritics - possibly poor OCR\n"
      ]
     },
     "metadata": {},
     "output_type": "display_data"
    },
    {
     "data": {
      "text/html": [
       "<pre style=\"white-space:pre;overflow-x:auto;line-height:normal;font-family:Menlo,'DejaVu Sans Mono',consolas,'Courier New',monospace\">[tesseract] lots of diacritics - possibly poor OCR\n",
       "</pre>\n"
      ],
      "text/plain": [
       "[tesseract] lots of diacritics - possibly poor OCR\n"
      ]
     },
     "metadata": {},
     "output_type": "display_data"
    },
    {
     "data": {
      "text/html": [
       "<pre style=\"white-space:pre;overflow-x:auto;line-height:normal;font-family:Menlo,'DejaVu Sans Mono',consolas,'Courier New',monospace\">[tesseract] lots of diacritics - possibly poor OCR\n",
       "</pre>\n"
      ],
      "text/plain": [
       "[tesseract] lots of diacritics - possibly poor OCR\n"
      ]
     },
     "metadata": {},
     "output_type": "display_data"
    },
    {
     "data": {
      "text/html": [
       "<pre style=\"white-space:pre;overflow-x:auto;line-height:normal;font-family:Menlo,'DejaVu Sans Mono',consolas,'Courier New',monospace\"></pre>\n"
      ],
      "text/plain": []
     },
     "metadata": {},
     "output_type": "display_data"
    },
    {
     "data": {
      "application/vnd.jupyter.widget-view+json": {
       "model_id": "039d11367a5748d8834f8cc76bbc6926",
       "version_major": 2,
       "version_minor": 0
      },
      "text/plain": [
       "Output()"
      ]
     },
     "metadata": {},
     "output_type": "display_data"
    },
    {
     "data": {
      "text/html": [
       "<pre style=\"white-space:pre;overflow-x:auto;line-height:normal;font-family:Menlo,'DejaVu Sans Mono',consolas,'Courier New',monospace\"></pre>\n"
      ],
      "text/plain": []
     },
     "metadata": {},
     "output_type": "display_data"
    },
    {
     "data": {
      "application/vnd.jupyter.widget-view+json": {
       "model_id": "c8f1fa34efcd42e3a9b44b37de5aca62",
       "version_major": 2,
       "version_minor": 0
      },
      "text/plain": [
       "Output()"
      ]
     },
     "metadata": {},
     "output_type": "display_data"
    },
    {
     "data": {
      "text/html": [
       "<pre style=\"white-space:pre;overflow-x:auto;line-height:normal;font-family:Menlo,'DejaVu Sans Mono',consolas,'Courier New',monospace\">Some input metadata could not be copied because it is not permitted in PDF/A. You may wish to examine the output \n",
       "PDF's XMP metadata.\n",
       "</pre>\n"
      ],
      "text/plain": [
       "Some input metadata could not be copied because it is not permitted in PDF/A. You may wish to examine the output \n",
       "PDF's XMP metadata.\n"
      ]
     },
     "metadata": {},
     "output_type": "display_data"
    },
    {
     "data": {
      "text/html": [
       "<pre style=\"white-space:pre;overflow-x:auto;line-height:normal;font-family:Menlo,'DejaVu Sans Mono',consolas,'Courier New',monospace\"></pre>\n"
      ],
      "text/plain": []
     },
     "metadata": {},
     "output_type": "display_data"
    },
    {
     "data": {
      "application/vnd.jupyter.widget-view+json": {
       "model_id": "fb6a2f1f5b7843c89a730e648ca349fb",
       "version_major": 2,
       "version_minor": 0
      },
      "text/plain": [
       "Output()"
      ]
     },
     "metadata": {},
     "output_type": "display_data"
    },
    {
     "data": {
      "text/html": [
       "<pre style=\"white-space:pre;overflow-x:auto;line-height:normal;font-family:Menlo,'DejaVu Sans Mono',consolas,'Courier New',monospace\"></pre>\n"
      ],
      "text/plain": []
     },
     "metadata": {},
     "output_type": "display_data"
    },
    {
     "data": {
      "application/vnd.jupyter.widget-view+json": {
       "model_id": "2ce53a208d59481ba4d95c3f2950fd4e",
       "version_major": 2,
       "version_minor": 0
      },
      "text/plain": [
       "Output()"
      ]
     },
     "metadata": {},
     "output_type": "display_data"
    },
    {
     "data": {
      "text/html": [
       "<pre style=\"white-space:pre;overflow-x:auto;line-height:normal;font-family:Menlo,'DejaVu Sans Mono',consolas,'Courier New',monospace\"></pre>\n"
      ],
      "text/plain": []
     },
     "metadata": {},
     "output_type": "display_data"
    },
    {
     "data": {
      "application/vnd.jupyter.widget-view+json": {
       "model_id": "429e4c507a444b0a9c92f5a1e8ee57b6",
       "version_major": 2,
       "version_minor": 0
      },
      "text/plain": [
       "Output()"
      ]
     },
     "metadata": {},
     "output_type": "display_data"
    },
    {
     "data": {
      "text/html": [
       "<pre style=\"white-space:pre;overflow-x:auto;line-height:normal;font-family:Menlo,'DejaVu Sans Mono',consolas,'Courier New',monospace\"></pre>\n"
      ],
      "text/plain": []
     },
     "metadata": {},
     "output_type": "display_data"
    },
    {
     "name": "stdout",
     "output_type": "stream",
     "text": [
      "completed: /home/lolomarka/Documents/web-analysis/lab2/psturusvedeneducation/{2234bbf9-0c02-47ba-af79-77fdc3f38bf0}.txt\n",
      "completed: /home/lolomarka/Documents/web-analysis/lab2/psturusvedeneducation/{b04a8e8d-2057-490a-81b7-591703e371ec}.txt\n"
     ]
    },
    {
     "data": {
      "application/vnd.jupyter.widget-view+json": {
       "model_id": "d1cb23d01cec497d8a8b5e530d042258",
       "version_major": 2,
       "version_minor": 0
      },
      "text/plain": [
       "Output()"
      ]
     },
     "metadata": {},
     "output_type": "display_data"
    },
    {
     "data": {
      "text/html": [
       "<pre style=\"white-space:pre;overflow-x:auto;line-height:normal;font-family:Menlo,'DejaVu Sans Mono',consolas,'Courier New',monospace\"></pre>\n"
      ],
      "text/plain": []
     },
     "metadata": {},
     "output_type": "display_data"
    },
    {
     "data": {
      "application/vnd.jupyter.widget-view+json": {
       "model_id": "a1a9ed03732e46bebed8ab1b778abfdb",
       "version_major": 2,
       "version_minor": 0
      },
      "text/plain": [
       "Output()"
      ]
     },
     "metadata": {},
     "output_type": "display_data"
    },
    {
     "data": {
      "text/html": [
       "<pre style=\"white-space:pre;overflow-x:auto;line-height:normal;font-family:Menlo,'DejaVu Sans Mono',consolas,'Courier New',monospace\"></pre>\n"
      ],
      "text/plain": []
     },
     "metadata": {},
     "output_type": "display_data"
    },
    {
     "data": {
      "application/vnd.jupyter.widget-view+json": {
       "model_id": "e5bd3efe9d3d43b793d56cd12997cb1d",
       "version_major": 2,
       "version_minor": 0
      },
      "text/plain": [
       "Output()"
      ]
     },
     "metadata": {},
     "output_type": "display_data"
    },
    {
     "data": {
      "text/html": [
       "<pre style=\"white-space:pre;overflow-x:auto;line-height:normal;font-family:Menlo,'DejaVu Sans Mono',consolas,'Courier New',monospace\"></pre>\n"
      ],
      "text/plain": []
     },
     "metadata": {},
     "output_type": "display_data"
    },
    {
     "data": {
      "application/vnd.jupyter.widget-view+json": {
       "model_id": "f7472df75e644d95a04b90ffc02d60ee",
       "version_major": 2,
       "version_minor": 0
      },
      "text/plain": [
       "Output()"
      ]
     },
     "metadata": {},
     "output_type": "display_data"
    },
    {
     "data": {
      "text/html": [
       "<pre style=\"white-space:pre;overflow-x:auto;line-height:normal;font-family:Menlo,'DejaVu Sans Mono',consolas,'Courier New',monospace\">Some input metadata could not be copied because it is not permitted in PDF/A. You may wish to examine the output \n",
       "PDF's XMP metadata.\n",
       "</pre>\n"
      ],
      "text/plain": [
       "Some input metadata could not be copied because it is not permitted in PDF/A. You may wish to examine the output \n",
       "PDF's XMP metadata.\n"
      ]
     },
     "metadata": {},
     "output_type": "display_data"
    },
    {
     "data": {
      "text/html": [
       "<pre style=\"white-space:pre;overflow-x:auto;line-height:normal;font-family:Menlo,'DejaVu Sans Mono',consolas,'Courier New',monospace\"></pre>\n"
      ],
      "text/plain": []
     },
     "metadata": {},
     "output_type": "display_data"
    },
    {
     "data": {
      "application/vnd.jupyter.widget-view+json": {
       "model_id": "101670f554624a34bf35c840736b028b",
       "version_major": 2,
       "version_minor": 0
      },
      "text/plain": [
       "Output()"
      ]
     },
     "metadata": {},
     "output_type": "display_data"
    },
    {
     "data": {
      "text/html": [
       "<pre style=\"white-space:pre;overflow-x:auto;line-height:normal;font-family:Menlo,'DejaVu Sans Mono',consolas,'Courier New',monospace\"></pre>\n"
      ],
      "text/plain": []
     },
     "metadata": {},
     "output_type": "display_data"
    },
    {
     "data": {
      "application/vnd.jupyter.widget-view+json": {
       "model_id": "ab6d34a00dce47e987edf52a2e24ca1b",
       "version_major": 2,
       "version_minor": 0
      },
      "text/plain": [
       "Output()"
      ]
     },
     "metadata": {},
     "output_type": "display_data"
    },
    {
     "data": {
      "text/html": [
       "<pre style=\"white-space:pre;overflow-x:auto;line-height:normal;font-family:Menlo,'DejaVu Sans Mono',consolas,'Courier New',monospace\"></pre>\n"
      ],
      "text/plain": []
     },
     "metadata": {},
     "output_type": "display_data"
    },
    {
     "data": {
      "application/vnd.jupyter.widget-view+json": {
       "model_id": "31bcaf9852dd4fe6a8ed60606092291e",
       "version_major": 2,
       "version_minor": 0
      },
      "text/plain": [
       "Output()"
      ]
     },
     "metadata": {},
     "output_type": "display_data"
    },
    {
     "data": {
      "text/html": [
       "<pre style=\"white-space:pre;overflow-x:auto;line-height:normal;font-family:Menlo,'DejaVu Sans Mono',consolas,'Courier New',monospace\"></pre>\n"
      ],
      "text/plain": []
     },
     "metadata": {},
     "output_type": "display_data"
    },
    {
     "name": "stdout",
     "output_type": "stream",
     "text": [
      "completed: /home/lolomarka/Documents/web-analysis/lab2/psturusvedeneducation/{0acc1c72-40d3-4704-afb2-28622ed9d6ae}.txt\n",
      "Failed: /home/lolomarka/Documents/web-analysis/lab2/psturusvedeneducation/{161c3b80-d407-4f9f-8612-74a9e7e1cca5}.txt\n",
      "completed: /home/lolomarka/Documents/web-analysis/lab2/psturusvedeneducation/{541eda89-85cf-4f10-8dc8-1878425c8c3a}.txt\n",
      "completed: /home/lolomarka/Documents/web-analysis/lab2/psturusvedeneducation/{fe582d16-f3f7-45ac-b304-28ec2503a2da}.txt\n",
      "Failed: /home/lolomarka/Documents/web-analysis/lab2/psturusvedeneducation/{2d1465aa-1c16-4d0d-8ca3-0eb5b207a43d}.txt\n",
      "completed: /home/lolomarka/Documents/web-analysis/lab2/psturusvedeneducation/{c079f044-6106-47a0-acba-f4ccb7201d94}.txt\n"
     ]
    },
    {
     "data": {
      "application/vnd.jupyter.widget-view+json": {
       "model_id": "6c52e27e719340228d56d4b5248aabbf",
       "version_major": 2,
       "version_minor": 0
      },
      "text/plain": [
       "Output()"
      ]
     },
     "metadata": {},
     "output_type": "display_data"
    },
    {
     "data": {
      "text/html": [
       "<pre style=\"white-space:pre;overflow-x:auto;line-height:normal;font-family:Menlo,'DejaVu Sans Mono',consolas,'Courier New',monospace\"></pre>\n"
      ],
      "text/plain": []
     },
     "metadata": {},
     "output_type": "display_data"
    },
    {
     "data": {
      "application/vnd.jupyter.widget-view+json": {
       "model_id": "030cb09a1c87424db5996ae5d58e1c84",
       "version_major": 2,
       "version_minor": 0
      },
      "text/plain": [
       "Output()"
      ]
     },
     "metadata": {},
     "output_type": "display_data"
    },
    {
     "data": {
      "text/html": [
       "<pre style=\"white-space:pre;overflow-x:auto;line-height:normal;font-family:Menlo,'DejaVu Sans Mono',consolas,'Courier New',monospace\">[tesseract] lots of diacritics - possibly poor OCR\n",
       "</pre>\n"
      ],
      "text/plain": [
       "[tesseract] lots of diacritics - possibly poor OCR\n"
      ]
     },
     "metadata": {},
     "output_type": "display_data"
    },
    {
     "data": {
      "text/html": [
       "<pre style=\"white-space:pre;overflow-x:auto;line-height:normal;font-family:Menlo,'DejaVu Sans Mono',consolas,'Courier New',monospace\"></pre>\n"
      ],
      "text/plain": []
     },
     "metadata": {},
     "output_type": "display_data"
    },
    {
     "data": {
      "application/vnd.jupyter.widget-view+json": {
       "model_id": "a288af535033477bbb88d931170cd5da",
       "version_major": 2,
       "version_minor": 0
      },
      "text/plain": [
       "Output()"
      ]
     },
     "metadata": {},
     "output_type": "display_data"
    },
    {
     "data": {
      "text/html": [
       "<pre style=\"white-space:pre;overflow-x:auto;line-height:normal;font-family:Menlo,'DejaVu Sans Mono',consolas,'Courier New',monospace\"></pre>\n"
      ],
      "text/plain": []
     },
     "metadata": {},
     "output_type": "display_data"
    },
    {
     "data": {
      "application/vnd.jupyter.widget-view+json": {
       "model_id": "3ce1993d6b0e4e37bba5b0a9e1733f27",
       "version_major": 2,
       "version_minor": 0
      },
      "text/plain": [
       "Output()"
      ]
     },
     "metadata": {},
     "output_type": "display_data"
    },
    {
     "data": {
      "text/html": [
       "<pre style=\"white-space:pre;overflow-x:auto;line-height:normal;font-family:Menlo,'DejaVu Sans Mono',consolas,'Courier New',monospace\"></pre>\n"
      ],
      "text/plain": []
     },
     "metadata": {},
     "output_type": "display_data"
    },
    {
     "data": {
      "application/vnd.jupyter.widget-view+json": {
       "model_id": "9a5fc45dbe9547168bcd3c9318c1a727",
       "version_major": 2,
       "version_minor": 0
      },
      "text/plain": [
       "Output()"
      ]
     },
     "metadata": {},
     "output_type": "display_data"
    },
    {
     "data": {
      "text/html": [
       "<pre style=\"white-space:pre;overflow-x:auto;line-height:normal;font-family:Menlo,'DejaVu Sans Mono',consolas,'Courier New',monospace\"></pre>\n"
      ],
      "text/plain": []
     },
     "metadata": {},
     "output_type": "display_data"
    },
    {
     "data": {
      "application/vnd.jupyter.widget-view+json": {
       "model_id": "df65b44e527f448cb71289dc7f8f9649",
       "version_major": 2,
       "version_minor": 0
      },
      "text/plain": [
       "Output()"
      ]
     },
     "metadata": {},
     "output_type": "display_data"
    },
    {
     "data": {
      "text/html": [
       "<pre style=\"white-space:pre;overflow-x:auto;line-height:normal;font-family:Menlo,'DejaVu Sans Mono',consolas,'Courier New',monospace\"></pre>\n"
      ],
      "text/plain": []
     },
     "metadata": {},
     "output_type": "display_data"
    },
    {
     "data": {
      "application/vnd.jupyter.widget-view+json": {
       "model_id": "0d0330067fac4d29b0aa3ab514d9fe0a",
       "version_major": 2,
       "version_minor": 0
      },
      "text/plain": [
       "Output()"
      ]
     },
     "metadata": {},
     "output_type": "display_data"
    },
    {
     "data": {
      "text/html": [
       "<pre style=\"white-space:pre;overflow-x:auto;line-height:normal;font-family:Menlo,'DejaVu Sans Mono',consolas,'Courier New',monospace\"></pre>\n"
      ],
      "text/plain": []
     },
     "metadata": {},
     "output_type": "display_data"
    },
    {
     "name": "stdout",
     "output_type": "stream",
     "text": [
      "completed: /home/lolomarka/Documents/web-analysis/lab2/psturusvedeneducation/Svidetelstvo_MTO.txt\n",
      "completed: /home/lolomarka/Documents/web-analysis/lab2/psturusvedeneducation/{747f2147-a7c9-4ee8-affc-cabb808b33d0}.txt\n",
      "completed: /home/lolomarka/Documents/web-analysis/lab2/psturusvedeneducation/{389f6c1c-f1f8-482a-a2b3-4d9ddd3cf857}.txt\n",
      "Failed: /home/lolomarka/Documents/web-analysis/lab2/psturusvedeneducation/{1f77e6d5-8bfd-44b8-98c0-fbc877ceaa6f}.txt\n"
     ]
    },
    {
     "data": {
      "application/vnd.jupyter.widget-view+json": {
       "model_id": "437a21347d3d41febff2b1021990e8a1",
       "version_major": 2,
       "version_minor": 0
      },
      "text/plain": [
       "Output()"
      ]
     },
     "metadata": {},
     "output_type": "display_data"
    },
    {
     "data": {
      "text/html": [
       "<pre style=\"white-space:pre;overflow-x:auto;line-height:normal;font-family:Menlo,'DejaVu Sans Mono',consolas,'Courier New',monospace\"></pre>\n"
      ],
      "text/plain": []
     },
     "metadata": {},
     "output_type": "display_data"
    },
    {
     "data": {
      "application/vnd.jupyter.widget-view+json": {
       "model_id": "cb6c787fd6d8470e8cc58bc81bf2f34d",
       "version_major": 2,
       "version_minor": 0
      },
      "text/plain": [
       "Output()"
      ]
     },
     "metadata": {},
     "output_type": "display_data"
    },
    {
     "data": {
      "text/html": [
       "<pre style=\"white-space:pre;overflow-x:auto;line-height:normal;font-family:Menlo,'DejaVu Sans Mono',consolas,'Courier New',monospace\"></pre>\n"
      ],
      "text/plain": []
     },
     "metadata": {},
     "output_type": "display_data"
    },
    {
     "data": {
      "application/vnd.jupyter.widget-view+json": {
       "model_id": "bddffec137e64fbd939855019275bff9",
       "version_major": 2,
       "version_minor": 0
      },
      "text/plain": [
       "Output()"
      ]
     },
     "metadata": {},
     "output_type": "display_data"
    },
    {
     "data": {
      "text/html": [
       "<pre style=\"white-space:pre;overflow-x:auto;line-height:normal;font-family:Menlo,'DejaVu Sans Mono',consolas,'Courier New',monospace\"></pre>\n"
      ],
      "text/plain": []
     },
     "metadata": {},
     "output_type": "display_data"
    },
    {
     "data": {
      "application/vnd.jupyter.widget-view+json": {
       "model_id": "02389eec14c54691b8c5eab3ef5e712b",
       "version_major": 2,
       "version_minor": 0
      },
      "text/plain": [
       "Output()"
      ]
     },
     "metadata": {},
     "output_type": "display_data"
    },
    {
     "data": {
      "text/html": [
       "<pre style=\"white-space:pre;overflow-x:auto;line-height:normal;font-family:Menlo,'DejaVu Sans Mono',consolas,'Courier New',monospace\"></pre>\n"
      ],
      "text/plain": []
     },
     "metadata": {},
     "output_type": "display_data"
    },
    {
     "data": {
      "application/vnd.jupyter.widget-view+json": {
       "model_id": "f2fd174b5cf2494197be60cb2b6711af",
       "version_major": 2,
       "version_minor": 0
      },
      "text/plain": [
       "Output()"
      ]
     },
     "metadata": {},
     "output_type": "display_data"
    },
    {
     "data": {
      "text/html": [
       "<pre style=\"white-space:pre;overflow-x:auto;line-height:normal;font-family:Menlo,'DejaVu Sans Mono',consolas,'Courier New',monospace\"></pre>\n"
      ],
      "text/plain": []
     },
     "metadata": {},
     "output_type": "display_data"
    },
    {
     "data": {
      "application/vnd.jupyter.widget-view+json": {
       "model_id": "c16aab11022c4bb9870d826c2057cab5",
       "version_major": 2,
       "version_minor": 0
      },
      "text/plain": [
       "Output()"
      ]
     },
     "metadata": {},
     "output_type": "display_data"
    },
    {
     "data": {
      "text/html": [
       "<pre style=\"white-space:pre;overflow-x:auto;line-height:normal;font-family:Menlo,'DejaVu Sans Mono',consolas,'Courier New',monospace\"></pre>\n"
      ],
      "text/plain": []
     },
     "metadata": {},
     "output_type": "display_data"
    },
    {
     "data": {
      "application/vnd.jupyter.widget-view+json": {
       "model_id": "52390530f2dc44e39062140056b35aea",
       "version_major": 2,
       "version_minor": 0
      },
      "text/plain": [
       "Output()"
      ]
     },
     "metadata": {},
     "output_type": "display_data"
    },
    {
     "data": {
      "text/html": [
       "<pre style=\"white-space:pre;overflow-x:auto;line-height:normal;font-family:Menlo,'DejaVu Sans Mono',consolas,'Courier New',monospace\"></pre>\n"
      ],
      "text/plain": []
     },
     "metadata": {},
     "output_type": "display_data"
    },
    {
     "name": "stdout",
     "output_type": "stream",
     "text": [
      "completed: /home/lolomarka/Documents/web-analysis/lab2/psturusvedeneducation/513_PNIPU.txt\n"
     ]
    },
    {
     "data": {
      "application/vnd.jupyter.widget-view+json": {
       "model_id": "b3152d3eece743a284c6723d00f0264a",
       "version_major": 2,
       "version_minor": 0
      },
      "text/plain": [
       "Output()"
      ]
     },
     "metadata": {},
     "output_type": "display_data"
    },
    {
     "data": {
      "text/html": [
       "<pre style=\"white-space:pre;overflow-x:auto;line-height:normal;font-family:Menlo,'DejaVu Sans Mono',consolas,'Courier New',monospace\"></pre>\n"
      ],
      "text/plain": []
     },
     "metadata": {},
     "output_type": "display_data"
    },
    {
     "data": {
      "application/vnd.jupyter.widget-view+json": {
       "model_id": "b80d1859cbda48a6ba7346f4b7447918",
       "version_major": 2,
       "version_minor": 0
      },
      "text/plain": [
       "Output()"
      ]
     },
     "metadata": {},
     "output_type": "display_data"
    },
    {
     "data": {
      "text/html": [
       "<pre style=\"white-space:pre;overflow-x:auto;line-height:normal;font-family:Menlo,'DejaVu Sans Mono',consolas,'Courier New',monospace\"></pre>\n"
      ],
      "text/plain": []
     },
     "metadata": {},
     "output_type": "display_data"
    },
    {
     "data": {
      "application/vnd.jupyter.widget-view+json": {
       "model_id": "75f6bc3e3e9f455eb1a46fab0fe47068",
       "version_major": 2,
       "version_minor": 0
      },
      "text/plain": [
       "Output()"
      ]
     },
     "metadata": {},
     "output_type": "display_data"
    },
    {
     "data": {
      "text/html": [
       "<pre style=\"white-space:pre;overflow-x:auto;line-height:normal;font-family:Menlo,'DejaVu Sans Mono',consolas,'Courier New',monospace\"></pre>\n"
      ],
      "text/plain": []
     },
     "metadata": {},
     "output_type": "display_data"
    },
    {
     "data": {
      "application/vnd.jupyter.widget-view+json": {
       "model_id": "331527b6c0bf487daa68814d422dc3e0",
       "version_major": 2,
       "version_minor": 0
      },
      "text/plain": [
       "Output()"
      ]
     },
     "metadata": {},
     "output_type": "display_data"
    },
    {
     "data": {
      "text/html": [
       "<pre style=\"white-space:pre;overflow-x:auto;line-height:normal;font-family:Menlo,'DejaVu Sans Mono',consolas,'Courier New',monospace\">Some input metadata could not be copied because it is not permitted in PDF/A. You may wish to examine the output \n",
       "PDF's XMP metadata.\n",
       "</pre>\n"
      ],
      "text/plain": [
       "Some input metadata could not be copied because it is not permitted in PDF/A. You may wish to examine the output \n",
       "PDF's XMP metadata.\n"
      ]
     },
     "metadata": {},
     "output_type": "display_data"
    },
    {
     "data": {
      "text/html": [
       "<pre style=\"white-space:pre;overflow-x:auto;line-height:normal;font-family:Menlo,'DejaVu Sans Mono',consolas,'Courier New',monospace\"></pre>\n"
      ],
      "text/plain": []
     },
     "metadata": {},
     "output_type": "display_data"
    },
    {
     "data": {
      "application/vnd.jupyter.widget-view+json": {
       "model_id": "1810479c47674fef8d727ca309850187",
       "version_major": 2,
       "version_minor": 0
      },
      "text/plain": [
       "Output()"
      ]
     },
     "metadata": {},
     "output_type": "display_data"
    },
    {
     "data": {
      "text/html": [
       "<pre style=\"white-space:pre;overflow-x:auto;line-height:normal;font-family:Menlo,'DejaVu Sans Mono',consolas,'Courier New',monospace\"></pre>\n"
      ],
      "text/plain": []
     },
     "metadata": {},
     "output_type": "display_data"
    },
    {
     "data": {
      "application/vnd.jupyter.widget-view+json": {
       "model_id": "a416ecd4236b4df0bb8adf05eebacae1",
       "version_major": 2,
       "version_minor": 0
      },
      "text/plain": [
       "Output()"
      ]
     },
     "metadata": {},
     "output_type": "display_data"
    },
    {
     "data": {
      "text/html": [
       "<pre style=\"white-space:pre;overflow-x:auto;line-height:normal;font-family:Menlo,'DejaVu Sans Mono',consolas,'Courier New',monospace\"></pre>\n"
      ],
      "text/plain": []
     },
     "metadata": {},
     "output_type": "display_data"
    },
    {
     "data": {
      "application/vnd.jupyter.widget-view+json": {
       "model_id": "33f0db2b476040658756883a6750fbd2",
       "version_major": 2,
       "version_minor": 0
      },
      "text/plain": [
       "Output()"
      ]
     },
     "metadata": {},
     "output_type": "display_data"
    },
    {
     "data": {
      "text/html": [
       "<pre style=\"white-space:pre;overflow-x:auto;line-height:normal;font-family:Menlo,'DejaVu Sans Mono',consolas,'Courier New',monospace\"></pre>\n"
      ],
      "text/plain": []
     },
     "metadata": {},
     "output_type": "display_data"
    },
    {
     "name": "stdout",
     "output_type": "stream",
     "text": [
      "completed: /home/lolomarka/Documents/web-analysis/lab2/psturusvedeneducation/{59f4f43e-8664-425c-b8be-13563877eeb2}.txt\n",
      "completed: /home/lolomarka/Documents/web-analysis/lab2/psturusvedeneducation/{f0272861-925c-4ffb-b572-fc159170dad4}.txt\n",
      "completed: /home/lolomarka/Documents/web-analysis/lab2/psturusvedeneducation/{1e889c5a-1620-42d3-a4bd-163d7fbc69d1}.txt\n",
      "completed: /home/lolomarka/Documents/web-analysis/lab2/psturusvedeneducation/{74fb8c18-9b8d-4133-ad30-065c5cdbcaa3}.txt\n"
     ]
    },
    {
     "data": {
      "application/vnd.jupyter.widget-view+json": {
       "model_id": "ca4d65de9c4b41029e48411109fbf908",
       "version_major": 2,
       "version_minor": 0
      },
      "text/plain": [
       "Output()"
      ]
     },
     "metadata": {},
     "output_type": "display_data"
    },
    {
     "data": {
      "text/html": [
       "<pre style=\"white-space:pre;overflow-x:auto;line-height:normal;font-family:Menlo,'DejaVu Sans Mono',consolas,'Courier New',monospace\"></pre>\n"
      ],
      "text/plain": []
     },
     "metadata": {},
     "output_type": "display_data"
    },
    {
     "data": {
      "application/vnd.jupyter.widget-view+json": {
       "model_id": "356a66f7abb1442db23f528bdb1c05d4",
       "version_major": 2,
       "version_minor": 0
      },
      "text/plain": [
       "Output()"
      ]
     },
     "metadata": {},
     "output_type": "display_data"
    },
    {
     "data": {
      "text/html": [
       "<pre style=\"white-space:pre;overflow-x:auto;line-height:normal;font-family:Menlo,'DejaVu Sans Mono',consolas,'Courier New',monospace\"></pre>\n"
      ],
      "text/plain": []
     },
     "metadata": {},
     "output_type": "display_data"
    },
    {
     "data": {
      "application/vnd.jupyter.widget-view+json": {
       "model_id": "8c3f7f7e4c3749758eda1a5c009f62ba",
       "version_major": 2,
       "version_minor": 0
      },
      "text/plain": [
       "Output()"
      ]
     },
     "metadata": {},
     "output_type": "display_data"
    },
    {
     "data": {
      "text/html": [
       "<pre style=\"white-space:pre;overflow-x:auto;line-height:normal;font-family:Menlo,'DejaVu Sans Mono',consolas,'Courier New',monospace\"></pre>\n"
      ],
      "text/plain": []
     },
     "metadata": {},
     "output_type": "display_data"
    },
    {
     "data": {
      "application/vnd.jupyter.widget-view+json": {
       "model_id": "6916085741d14eb9905a58fe4d3d7a2d",
       "version_major": 2,
       "version_minor": 0
      },
      "text/plain": [
       "Output()"
      ]
     },
     "metadata": {},
     "output_type": "display_data"
    },
    {
     "data": {
      "text/html": [
       "<pre style=\"white-space:pre;overflow-x:auto;line-height:normal;font-family:Menlo,'DejaVu Sans Mono',consolas,'Courier New',monospace\">Some input metadata could not be copied because it is not permitted in PDF/A. You may wish to examine the output \n",
       "PDF's XMP metadata.\n",
       "</pre>\n"
      ],
      "text/plain": [
       "Some input metadata could not be copied because it is not permitted in PDF/A. You may wish to examine the output \n",
       "PDF's XMP metadata.\n"
      ]
     },
     "metadata": {},
     "output_type": "display_data"
    },
    {
     "data": {
      "text/html": [
       "<pre style=\"white-space:pre;overflow-x:auto;line-height:normal;font-family:Menlo,'DejaVu Sans Mono',consolas,'Courier New',monospace\"></pre>\n"
      ],
      "text/plain": []
     },
     "metadata": {},
     "output_type": "display_data"
    },
    {
     "data": {
      "application/vnd.jupyter.widget-view+json": {
       "model_id": "ccb6e5f33e0e496898f3782f55c81d79",
       "version_major": 2,
       "version_minor": 0
      },
      "text/plain": [
       "Output()"
      ]
     },
     "metadata": {},
     "output_type": "display_data"
    },
    {
     "data": {
      "text/html": [
       "<pre style=\"white-space:pre;overflow-x:auto;line-height:normal;font-family:Menlo,'DejaVu Sans Mono',consolas,'Courier New',monospace\"></pre>\n"
      ],
      "text/plain": []
     },
     "metadata": {},
     "output_type": "display_data"
    },
    {
     "data": {
      "application/vnd.jupyter.widget-view+json": {
       "model_id": "61734914e9994b8aa345c61e1501978e",
       "version_major": 2,
       "version_minor": 0
      },
      "text/plain": [
       "Output()"
      ]
     },
     "metadata": {},
     "output_type": "display_data"
    },
    {
     "data": {
      "text/html": [
       "<pre style=\"white-space:pre;overflow-x:auto;line-height:normal;font-family:Menlo,'DejaVu Sans Mono',consolas,'Courier New',monospace\"></pre>\n"
      ],
      "text/plain": []
     },
     "metadata": {},
     "output_type": "display_data"
    },
    {
     "data": {
      "application/vnd.jupyter.widget-view+json": {
       "model_id": "24570929c04e4c74850e9dc05e7384ae",
       "version_major": 2,
       "version_minor": 0
      },
      "text/plain": [
       "Output()"
      ]
     },
     "metadata": {},
     "output_type": "display_data"
    },
    {
     "data": {
      "text/html": [
       "<pre style=\"white-space:pre;overflow-x:auto;line-height:normal;font-family:Menlo,'DejaVu Sans Mono',consolas,'Courier New',monospace\"></pre>\n"
      ],
      "text/plain": []
     },
     "metadata": {},
     "output_type": "display_data"
    },
    {
     "name": "stdout",
     "output_type": "stream",
     "text": [
      "completed: /home/lolomarka/Documents/web-analysis/lab2/psturusvedeneducation/{cc4a0b89-7a3d-41ee-871e-ed26911f5cfb}.txt\n"
     ]
    },
    {
     "data": {
      "application/vnd.jupyter.widget-view+json": {
       "model_id": "ee9695f3c3f743199c588ebfcb35d3c8",
       "version_major": 2,
       "version_minor": 0
      },
      "text/plain": [
       "Output()"
      ]
     },
     "metadata": {},
     "output_type": "display_data"
    },
    {
     "data": {
      "text/html": [
       "<pre style=\"white-space:pre;overflow-x:auto;line-height:normal;font-family:Menlo,'DejaVu Sans Mono',consolas,'Courier New',monospace\"></pre>\n"
      ],
      "text/plain": []
     },
     "metadata": {},
     "output_type": "display_data"
    },
    {
     "ename": "InputFileError",
     "evalue": "pdfminer could not process page 0 (counting from 0).",
     "output_type": "error",
     "traceback": [
      "\u001b[0;31m---------------------------------------------------------------------------\u001b[0m",
      "\u001b[0;31mInputFileError\u001b[0m                            Traceback (most recent call last)",
      "Cell \u001b[0;32mIn[213], line 5\u001b[0m\n\u001b[1;32m      2\u001b[0m loaded_files \u001b[38;5;241m=\u001b[39m \u001b[38;5;28mset\u001b[39m()\n\u001b[1;32m      3\u001b[0m url \u001b[38;5;241m=\u001b[39m \u001b[38;5;124m'\u001b[39m\u001b[38;5;124mhttps://pstu.ru/sveden/education/\u001b[39m\u001b[38;5;124m'\u001b[39m\n\u001b[0;32m----> 5\u001b[0m \u001b[43mtraverse\u001b[49m\u001b[43m(\u001b[49m\u001b[43murl\u001b[49m\u001b[43m)\u001b[49m\n",
      "Cell \u001b[0;32mIn[212], line 7\u001b[0m, in \u001b[0;36mtraverse\u001b[0;34m(url, level, base_url)\u001b[0m\n\u001b[1;32m      5\u001b[0m \u001b[38;5;28;01mif\u001b[39;00m level \u001b[38;5;241m>\u001b[39m\u001b[38;5;241m=\u001b[39m max_level:\n\u001b[1;32m      6\u001b[0m     \u001b[38;5;28;01mreturn\u001b[39;00m\n\u001b[0;32m----> 7\u001b[0m \u001b[38;5;28;01mfor\u001b[39;00m loaded_file \u001b[38;5;129;01min\u001b[39;00m \u001b[43mload_pdf_and_text\u001b[49m\u001b[43m(\u001b[49m\u001b[43murl\u001b[49m\u001b[43m,\u001b[49m\u001b[43m \u001b[49m\u001b[43mloaded_files\u001b[49m\u001b[43m,\u001b[49m\u001b[43m \u001b[49m\u001b[43mbase_url\u001b[49m\u001b[43m)\u001b[49m:\n\u001b[1;32m      8\u001b[0m     loaded_files\u001b[38;5;241m.\u001b[39madd(os\u001b[38;5;241m.\u001b[39mpath\u001b[38;5;241m.\u001b[39mbasename(loaded_file))\n\u001b[1;32m     10\u001b[0m not_file_link \u001b[38;5;241m=\u001b[39m request_not_pdf_links(url)\n",
      "Cell \u001b[0;32mIn[207], line 44\u001b[0m, in \u001b[0;36mload_pdf_and_text\u001b[0;34m(url, loaded_files, base_url)\u001b[0m\n\u001b[1;32m     42\u001b[0m file_pathes \u001b[38;5;241m=\u001b[39m download_pdfs(url, loaded_files, base_url)\n\u001b[1;32m     43\u001b[0m \u001b[38;5;28;01mfor\u001b[39;00m file_path \u001b[38;5;129;01min\u001b[39;00m file_pathes:\n\u001b[0;32m---> 44\u001b[0m     \u001b[43msave_text_from_pdf\u001b[49m\u001b[43m(\u001b[49m\u001b[43mfile_path\u001b[49m\u001b[43m)\u001b[49m\n\u001b[1;32m     45\u001b[0m \u001b[38;5;28;01mreturn\u001b[39;00m file_pathes\n",
      "Cell \u001b[0;32mIn[207], line 25\u001b[0m, in \u001b[0;36msave_text_from_pdf\u001b[0;34m(pdf_path)\u001b[0m\n\u001b[1;32m     24\u001b[0m \u001b[38;5;28;01mdef\u001b[39;00m \u001b[38;5;21msave_text_from_pdf\u001b[39m(pdf_path : \u001b[38;5;28mstr\u001b[39m):\n\u001b[0;32m---> 25\u001b[0m     text \u001b[38;5;241m=\u001b[39m \u001b[43mextract_text_from_pdf\u001b[49m\u001b[43m(\u001b[49m\u001b[43mpdf_path\u001b[49m\u001b[43m)\u001b[49m\n\u001b[1;32m     26\u001b[0m     dir_name \u001b[38;5;241m=\u001b[39m os\u001b[38;5;241m.\u001b[39mpath\u001b[38;5;241m.\u001b[39mdirname(pdf_path)\n\u001b[1;32m     27\u001b[0m     file_name \u001b[38;5;241m=\u001b[39m os\u001b[38;5;241m.\u001b[39mpath\u001b[38;5;241m.\u001b[39mbasename(pdf_path)\n",
      "Cell \u001b[0;32mIn[207], line 20\u001b[0m, in \u001b[0;36mextract_text_from_pdf\u001b[0;34m(pdf_path)\u001b[0m\n\u001b[1;32m     18\u001b[0m \u001b[38;5;28;01mexcept\u001b[39;00m:\n\u001b[1;32m     19\u001b[0m     \u001b[38;5;28;01mpass\u001b[39;00m\n\u001b[0;32m---> 20\u001b[0m \u001b[43mocrmypdf\u001b[49m\u001b[38;5;241;43m.\u001b[39;49m\u001b[43mocr\u001b[49m\u001b[43m(\u001b[49m\u001b[43mpdf_path\u001b[49m\u001b[43m,\u001b[49m\u001b[43m \u001b[49m\u001b[43mpdf_path\u001b[49m\u001b[43m,\u001b[49m\u001b[43m \u001b[49m\u001b[43mlanguage\u001b[49m\u001b[38;5;241;43m=\u001b[39;49m\u001b[43m[\u001b[49m\u001b[38;5;124;43m'\u001b[39;49m\u001b[38;5;124;43mrus\u001b[39;49m\u001b[38;5;124;43m'\u001b[39;49m\u001b[43m,\u001b[49m\u001b[38;5;124;43m'\u001b[39;49m\u001b[38;5;124;43meng\u001b[39;49m\u001b[38;5;124;43m'\u001b[39;49m\u001b[43m]\u001b[49m\u001b[43m,\u001b[49m\u001b[43m \u001b[49m\u001b[43moptimize\u001b[49m\u001b[38;5;241;43m=\u001b[39;49m\u001b[38;5;241;43m1\u001b[39;49m\u001b[43m,\u001b[49m\u001b[43m \u001b[49m\u001b[43mredo_ocr\u001b[49m\u001b[38;5;241;43m=\u001b[39;49m\u001b[38;5;28;43;01mTrue\u001b[39;49;00m\u001b[43m)\u001b[49m\n\u001b[1;32m     21\u001b[0m reader \u001b[38;5;241m=\u001b[39m PdfReader(pdf_path)    \n\u001b[1;32m     22\u001b[0m \u001b[38;5;28;01mreturn\u001b[39;00m get_pdf_reader_text(reader)\n",
      "File \u001b[0;32m~/Documents/web-analysis/.venv/lib64/python3.12/site-packages/ocrmypdf/api.py:380\u001b[0m, in \u001b[0;36mocr\u001b[0;34m(input_file, output_file, language, image_dpi, output_type, sidecar, jobs, use_threads, title, author, subject, keywords, rotate_pages, remove_background, deskew, clean, clean_final, unpaper_args, oversample, remove_vectors, force_ocr, skip_text, redo_ocr, skip_big, optimize, jpg_quality, png_quality, jbig2_lossy, jbig2_page_group_size, jbig2_threshold, pages, max_image_mpixels, tesseract_config, tesseract_pagesegmode, tesseract_oem, tesseract_thresholding, pdf_renderer, tesseract_timeout, tesseract_non_ocr_timeout, tesseract_downsample_above, tesseract_downsample_large_images, rotate_pages_threshold, pdfa_image_compression, color_conversion_strategy, user_words, user_patterns, fast_web_view, continue_on_soft_render_error, invalidate_digital_signatures, plugins, plugin_manager, keep_temporary_files, progress_bar, **kwargs)\u001b[0m\n\u001b[1;32m    373\u001b[0m options \u001b[38;5;241m=\u001b[39m create_options(\n\u001b[1;32m    374\u001b[0m     input_file\u001b[38;5;241m=\u001b[39minput_file,\n\u001b[1;32m    375\u001b[0m     output_file\u001b[38;5;241m=\u001b[39moutput_file,\n\u001b[1;32m    376\u001b[0m     parser\u001b[38;5;241m=\u001b[39mparser,\n\u001b[1;32m    377\u001b[0m     \u001b[38;5;241m*\u001b[39m\u001b[38;5;241m*\u001b[39mcreate_options_kwargs,\n\u001b[1;32m    378\u001b[0m )\n\u001b[1;32m    379\u001b[0m check_options(options, plugin_manager)\n\u001b[0;32m--> 380\u001b[0m \u001b[38;5;28;01mreturn\u001b[39;00m \u001b[43mrun_pipeline\u001b[49m\u001b[43m(\u001b[49m\u001b[43moptions\u001b[49m\u001b[38;5;241;43m=\u001b[39;49m\u001b[43moptions\u001b[49m\u001b[43m,\u001b[49m\u001b[43m \u001b[49m\u001b[43mplugin_manager\u001b[49m\u001b[38;5;241;43m=\u001b[39;49m\u001b[43mplugin_manager\u001b[49m\u001b[43m)\u001b[49m\n",
      "File \u001b[0;32m~/Documents/web-analysis/.venv/lib64/python3.12/site-packages/ocrmypdf/_pipelines/ocr.py:223\u001b[0m, in \u001b[0;36mrun_pipeline\u001b[0;34m(options, plugin_manager)\u001b[0m\n\u001b[1;32m    211\u001b[0m \u001b[38;5;28;01mdef\u001b[39;00m \u001b[38;5;21mrun_pipeline\u001b[39m(\n\u001b[1;32m    212\u001b[0m     options: argparse\u001b[38;5;241m.\u001b[39mNamespace,\n\u001b[1;32m    213\u001b[0m     \u001b[38;5;241m*\u001b[39m,\n\u001b[1;32m    214\u001b[0m     plugin_manager: OcrmypdfPluginManager,\n\u001b[1;32m    215\u001b[0m ) \u001b[38;5;241m-\u001b[39m\u001b[38;5;241m>\u001b[39m ExitCode:\n\u001b[1;32m    216\u001b[0m \u001b[38;5;250m    \u001b[39m\u001b[38;5;124;03m\"\"\"Run the OCR pipeline without command line exception handling.\u001b[39;00m\n\u001b[1;32m    217\u001b[0m \n\u001b[1;32m    218\u001b[0m \u001b[38;5;124;03m    Args:\u001b[39;00m\n\u001b[0;32m   (...)\u001b[0m\n\u001b[1;32m    221\u001b[0m \u001b[38;5;124;03m            created.\u001b[39;00m\n\u001b[1;32m    222\u001b[0m \u001b[38;5;124;03m    \"\"\"\u001b[39;00m\n\u001b[0;32m--> 223\u001b[0m     \u001b[38;5;28;01mreturn\u001b[39;00m \u001b[43m_run_pipeline\u001b[49m\u001b[43m(\u001b[49m\u001b[43moptions\u001b[49m\u001b[43m,\u001b[49m\u001b[43m \u001b[49m\u001b[43mplugin_manager\u001b[49m\u001b[43m)\u001b[49m\n",
      "File \u001b[0;32m~/Documents/web-analysis/.venv/lib64/python3.12/site-packages/ocrmypdf/_pipelines/ocr.py:174\u001b[0m, in \u001b[0;36m_run_pipeline\u001b[0;34m(options, plugin_manager)\u001b[0m\n\u001b[1;32m    169\u001b[0m origin_pdf \u001b[38;5;241m=\u001b[39m triage(\n\u001b[1;32m    170\u001b[0m     original_filename, start_input_file, work_folder \u001b[38;5;241m/\u001b[39m \u001b[38;5;124m'\u001b[39m\u001b[38;5;124morigin.pdf\u001b[39m\u001b[38;5;124m'\u001b[39m, options\n\u001b[1;32m    171\u001b[0m )\n\u001b[1;32m    173\u001b[0m \u001b[38;5;66;03m# Gather pdfinfo and create context\u001b[39;00m\n\u001b[0;32m--> 174\u001b[0m pdfinfo \u001b[38;5;241m=\u001b[39m \u001b[43mget_pdfinfo\u001b[49m\u001b[43m(\u001b[49m\n\u001b[1;32m    175\u001b[0m \u001b[43m    \u001b[49m\u001b[43morigin_pdf\u001b[49m\u001b[43m,\u001b[49m\n\u001b[1;32m    176\u001b[0m \u001b[43m    \u001b[49m\u001b[43mexecutor\u001b[49m\u001b[38;5;241;43m=\u001b[39;49m\u001b[43mexecutor\u001b[49m\u001b[43m,\u001b[49m\n\u001b[1;32m    177\u001b[0m \u001b[43m    \u001b[49m\u001b[43mdetailed_analysis\u001b[49m\u001b[38;5;241;43m=\u001b[39;49m\u001b[43moptions\u001b[49m\u001b[38;5;241;43m.\u001b[39;49m\u001b[43mredo_ocr\u001b[49m\u001b[43m,\u001b[49m\n\u001b[1;32m    178\u001b[0m \u001b[43m    \u001b[49m\u001b[43mprogbar\u001b[49m\u001b[38;5;241;43m=\u001b[39;49m\u001b[43moptions\u001b[49m\u001b[38;5;241;43m.\u001b[39;49m\u001b[43mprogress_bar\u001b[49m\u001b[43m,\u001b[49m\n\u001b[1;32m    179\u001b[0m \u001b[43m    \u001b[49m\u001b[43mmax_workers\u001b[49m\u001b[38;5;241;43m=\u001b[39;49m\u001b[43moptions\u001b[49m\u001b[38;5;241;43m.\u001b[39;49m\u001b[43mjobs\u001b[49m\u001b[43m,\u001b[49m\n\u001b[1;32m    180\u001b[0m \u001b[43m    \u001b[49m\u001b[43muse_threads\u001b[49m\u001b[38;5;241;43m=\u001b[39;49m\u001b[43moptions\u001b[49m\u001b[38;5;241;43m.\u001b[39;49m\u001b[43muse_threads\u001b[49m\u001b[43m,\u001b[49m\n\u001b[1;32m    181\u001b[0m \u001b[43m    \u001b[49m\u001b[43mcheck_pages\u001b[49m\u001b[38;5;241;43m=\u001b[39;49m\u001b[43moptions\u001b[49m\u001b[38;5;241;43m.\u001b[39;49m\u001b[43mpages\u001b[49m\u001b[43m,\u001b[49m\n\u001b[1;32m    182\u001b[0m \u001b[43m\u001b[49m\u001b[43m)\u001b[49m\n\u001b[1;32m    184\u001b[0m context \u001b[38;5;241m=\u001b[39m PdfContext(options, work_folder, origin_pdf, pdfinfo, plugin_manager)\n\u001b[1;32m    186\u001b[0m \u001b[38;5;66;03m# Validate options are okay for this pdf\u001b[39;00m\n",
      "File \u001b[0;32m~/Documents/web-analysis/.venv/lib64/python3.12/site-packages/ocrmypdf/_pipeline.py:186\u001b[0m, in \u001b[0;36mget_pdfinfo\u001b[0;34m(input_file, executor, detailed_analysis, progbar, max_workers, use_threads, check_pages)\u001b[0m\n\u001b[1;32m    184\u001b[0m \u001b[38;5;250m\u001b[39m\u001b[38;5;124;03m\"\"\"Get the PDF info.\"\"\"\u001b[39;00m\n\u001b[1;32m    185\u001b[0m \u001b[38;5;28;01mtry\u001b[39;00m:\n\u001b[0;32m--> 186\u001b[0m     \u001b[38;5;28;01mreturn\u001b[39;00m \u001b[43mPdfInfo\u001b[49m\u001b[43m(\u001b[49m\n\u001b[1;32m    187\u001b[0m \u001b[43m        \u001b[49m\u001b[43minput_file\u001b[49m\u001b[43m,\u001b[49m\n\u001b[1;32m    188\u001b[0m \u001b[43m        \u001b[49m\u001b[43mdetailed_analysis\u001b[49m\u001b[38;5;241;43m=\u001b[39;49m\u001b[43mdetailed_analysis\u001b[49m\u001b[43m,\u001b[49m\n\u001b[1;32m    189\u001b[0m \u001b[43m        \u001b[49m\u001b[43mprogbar\u001b[49m\u001b[38;5;241;43m=\u001b[39;49m\u001b[43mprogbar\u001b[49m\u001b[43m,\u001b[49m\n\u001b[1;32m    190\u001b[0m \u001b[43m        \u001b[49m\u001b[43mmax_workers\u001b[49m\u001b[38;5;241;43m=\u001b[39;49m\u001b[43mmax_workers\u001b[49m\u001b[43m,\u001b[49m\n\u001b[1;32m    191\u001b[0m \u001b[43m        \u001b[49m\u001b[43muse_threads\u001b[49m\u001b[38;5;241;43m=\u001b[39;49m\u001b[43muse_threads\u001b[49m\u001b[43m,\u001b[49m\n\u001b[1;32m    192\u001b[0m \u001b[43m        \u001b[49m\u001b[43mcheck_pages\u001b[49m\u001b[38;5;241;43m=\u001b[39;49m\u001b[43mcheck_pages\u001b[49m\u001b[43m,\u001b[49m\n\u001b[1;32m    193\u001b[0m \u001b[43m        \u001b[49m\u001b[43mexecutor\u001b[49m\u001b[38;5;241;43m=\u001b[39;49m\u001b[43mexecutor\u001b[49m\u001b[43m,\u001b[49m\n\u001b[1;32m    194\u001b[0m \u001b[43m    \u001b[49m\u001b[43m)\u001b[49m\n\u001b[1;32m    195\u001b[0m \u001b[38;5;28;01mexcept\u001b[39;00m pikepdf\u001b[38;5;241m.\u001b[39mPasswordError \u001b[38;5;28;01mas\u001b[39;00m e:\n\u001b[1;32m    196\u001b[0m     \u001b[38;5;28;01mraise\u001b[39;00m EncryptedPdfError() \u001b[38;5;28;01mfrom\u001b[39;00m \u001b[38;5;21;01me\u001b[39;00m\n",
      "File \u001b[0;32m~/Documents/web-analysis/.venv/lib64/python3.12/site-packages/ocrmypdf/pdfinfo/info.py:1153\u001b[0m, in \u001b[0;36mPdfInfo.__init__\u001b[0;34m(self, infile, detailed_analysis, progbar, max_workers, use_threads, check_pages, executor)\u001b[0m\n\u001b[1;32m   1151\u001b[0m \u001b[38;5;28;01mif\u001b[39;00m pdf\u001b[38;5;241m.\u001b[39mis_encrypted:\n\u001b[1;32m   1152\u001b[0m     \u001b[38;5;28;01mraise\u001b[39;00m EncryptedPdfError()  \u001b[38;5;66;03m# Triggered by encryption with empty passwd\u001b[39;00m\n\u001b[0;32m-> 1153\u001b[0m \u001b[38;5;28mself\u001b[39m\u001b[38;5;241m.\u001b[39m_pages \u001b[38;5;241m=\u001b[39m \u001b[43m_pdf_pageinfo_concurrent\u001b[49m\u001b[43m(\u001b[49m\n\u001b[1;32m   1154\u001b[0m \u001b[43m    \u001b[49m\u001b[43mpdf\u001b[49m\u001b[43m,\u001b[49m\n\u001b[1;32m   1155\u001b[0m \u001b[43m    \u001b[49m\u001b[43mexecutor\u001b[49m\u001b[43m,\u001b[49m\n\u001b[1;32m   1156\u001b[0m \u001b[43m    \u001b[49m\u001b[43mmax_workers\u001b[49m\u001b[43m,\u001b[49m\n\u001b[1;32m   1157\u001b[0m \u001b[43m    \u001b[49m\u001b[43muse_threads\u001b[49m\u001b[43m,\u001b[49m\n\u001b[1;32m   1158\u001b[0m \u001b[43m    \u001b[49m\u001b[43minfile\u001b[49m\u001b[43m,\u001b[49m\n\u001b[1;32m   1159\u001b[0m \u001b[43m    \u001b[49m\u001b[43mprogbar\u001b[49m\u001b[43m,\u001b[49m\n\u001b[1;32m   1160\u001b[0m \u001b[43m    \u001b[49m\u001b[43mcheck_pages\u001b[49m\u001b[38;5;241;43m=\u001b[39;49m\u001b[43mcheck_pages\u001b[49m\u001b[43m,\u001b[49m\n\u001b[1;32m   1161\u001b[0m \u001b[43m    \u001b[49m\u001b[43mdetailed_analysis\u001b[49m\u001b[38;5;241;43m=\u001b[39;49m\u001b[43mdetailed_analysis\u001b[49m\u001b[43m,\u001b[49m\n\u001b[1;32m   1162\u001b[0m \u001b[43m\u001b[49m\u001b[43m)\u001b[49m\n\u001b[1;32m   1163\u001b[0m \u001b[38;5;28mself\u001b[39m\u001b[38;5;241m.\u001b[39m_needs_rendering \u001b[38;5;241m=\u001b[39m pdf\u001b[38;5;241m.\u001b[39mRoot\u001b[38;5;241m.\u001b[39mget(Name\u001b[38;5;241m.\u001b[39mNeedsRendering, \u001b[38;5;28;01mFalse\u001b[39;00m)\n\u001b[1;32m   1164\u001b[0m \u001b[38;5;28;01mif\u001b[39;00m Name\u001b[38;5;241m.\u001b[39mAcroForm \u001b[38;5;129;01min\u001b[39;00m pdf\u001b[38;5;241m.\u001b[39mRoot:\n",
      "File \u001b[0;32m~/Documents/web-analysis/.venv/lib64/python3.12/site-packages/ocrmypdf/pdfinfo/info.py:809\u001b[0m, in \u001b[0;36m_pdf_pageinfo_concurrent\u001b[0;34m(pdf, executor, max_workers, use_threads, infile, progbar, check_pages, detailed_analysis)\u001b[0m\n\u001b[1;32m    803\u001b[0m \u001b[38;5;28;01massert\u001b[39;00m n_workers \u001b[38;5;241m==\u001b[39m \u001b[38;5;241m1\u001b[39m \u001b[38;5;28;01mif\u001b[39;00m use_threads \u001b[38;5;28;01melse\u001b[39;00m n_workers \u001b[38;5;241m>\u001b[39m\u001b[38;5;241m=\u001b[39m \u001b[38;5;241m1\u001b[39m, \u001b[38;5;124m\"\u001b[39m\u001b[38;5;124mNot multithreadable\u001b[39m\u001b[38;5;124m\"\u001b[39m\n\u001b[1;32m    804\u001b[0m logger\u001b[38;5;241m.\u001b[39mdebug(\n\u001b[1;32m    805\u001b[0m     \u001b[38;5;124mf\u001b[39m\u001b[38;5;124m\"\u001b[39m\u001b[38;5;124mGathering info with \u001b[39m\u001b[38;5;132;01m{\u001b[39;00mn_workers\u001b[38;5;132;01m}\u001b[39;00m\u001b[38;5;124m \u001b[39m\u001b[38;5;124m\"\u001b[39m\n\u001b[1;32m    806\u001b[0m     \u001b[38;5;241m+\u001b[39m (\u001b[38;5;124m'\u001b[39m\u001b[38;5;124mthread\u001b[39m\u001b[38;5;124m'\u001b[39m \u001b[38;5;28;01mif\u001b[39;00m use_threads \u001b[38;5;28;01melse\u001b[39;00m \u001b[38;5;124m'\u001b[39m\u001b[38;5;124mprocess\u001b[39m\u001b[38;5;124m'\u001b[39m)\n\u001b[1;32m    807\u001b[0m     \u001b[38;5;241m+\u001b[39m \u001b[38;5;124m\"\u001b[39m\u001b[38;5;124m workers\u001b[39m\u001b[38;5;124m\"\u001b[39m\n\u001b[1;32m    808\u001b[0m )\n\u001b[0;32m--> 809\u001b[0m \u001b[43mexecutor\u001b[49m\u001b[43m(\u001b[49m\n\u001b[1;32m    810\u001b[0m \u001b[43m    \u001b[49m\u001b[43muse_threads\u001b[49m\u001b[38;5;241;43m=\u001b[39;49m\u001b[43muse_threads\u001b[49m\u001b[43m,\u001b[49m\n\u001b[1;32m    811\u001b[0m \u001b[43m    \u001b[49m\u001b[43mmax_workers\u001b[49m\u001b[38;5;241;43m=\u001b[39;49m\u001b[43mn_workers\u001b[49m\u001b[43m,\u001b[49m\n\u001b[1;32m    812\u001b[0m \u001b[43m    \u001b[49m\u001b[43mprogress_kwargs\u001b[49m\u001b[38;5;241;43m=\u001b[39;49m\u001b[38;5;28;43mdict\u001b[39;49m\u001b[43m(\u001b[49m\n\u001b[1;32m    813\u001b[0m \u001b[43m        \u001b[49m\u001b[43mtotal\u001b[49m\u001b[38;5;241;43m=\u001b[39;49m\u001b[43mtotal\u001b[49m\u001b[43m,\u001b[49m\u001b[43m \u001b[49m\u001b[43mdesc\u001b[49m\u001b[38;5;241;43m=\u001b[39;49m\u001b[38;5;124;43m\"\u001b[39;49m\u001b[38;5;124;43mScanning contents\u001b[39;49m\u001b[38;5;124;43m\"\u001b[39;49m\u001b[43m,\u001b[49m\u001b[43m \u001b[49m\u001b[43munit\u001b[49m\u001b[38;5;241;43m=\u001b[39;49m\u001b[38;5;124;43m'\u001b[39;49m\u001b[38;5;124;43mpage\u001b[39;49m\u001b[38;5;124;43m'\u001b[39;49m\u001b[43m,\u001b[49m\u001b[43m \u001b[49m\u001b[43mdisable\u001b[49m\u001b[38;5;241;43m=\u001b[39;49m\u001b[38;5;129;43;01mnot\u001b[39;49;00m\u001b[43m \u001b[49m\u001b[43mprogbar\u001b[49m\n\u001b[1;32m    814\u001b[0m \u001b[43m    \u001b[49m\u001b[43m)\u001b[49m\u001b[43m,\u001b[49m\n\u001b[1;32m    815\u001b[0m \u001b[43m    \u001b[49m\u001b[43mworker_initializer\u001b[49m\u001b[38;5;241;43m=\u001b[39;49m\u001b[43mpartial\u001b[49m\u001b[43m(\u001b[49m\n\u001b[1;32m    816\u001b[0m \u001b[43m        \u001b[49m\u001b[43m_pdf_pageinfo_sync_init\u001b[49m\u001b[43m,\u001b[49m\n\u001b[1;32m    817\u001b[0m \u001b[43m        \u001b[49m\u001b[43minitial_pdf\u001b[49m\u001b[43m,\u001b[49m\n\u001b[1;32m    818\u001b[0m \u001b[43m        \u001b[49m\u001b[43minfile\u001b[49m\u001b[43m,\u001b[49m\n\u001b[1;32m    819\u001b[0m \u001b[43m        \u001b[49m\u001b[43mlogging\u001b[49m\u001b[38;5;241;43m.\u001b[39;49m\u001b[43mgetLogger\u001b[49m\u001b[43m(\u001b[49m\u001b[38;5;124;43m'\u001b[39;49m\u001b[38;5;124;43mpdfminer\u001b[39;49m\u001b[38;5;124;43m'\u001b[39;49m\u001b[43m)\u001b[49m\u001b[38;5;241;43m.\u001b[39;49m\u001b[43mlevel\u001b[49m\u001b[43m,\u001b[49m\n\u001b[1;32m    820\u001b[0m \u001b[43m    \u001b[49m\u001b[43m)\u001b[49m\u001b[43m,\u001b[49m\n\u001b[1;32m    821\u001b[0m \u001b[43m    \u001b[49m\u001b[43mtask\u001b[49m\u001b[38;5;241;43m=\u001b[39;49m\u001b[43m_pdf_pageinfo_sync\u001b[49m\u001b[43m,\u001b[49m\n\u001b[1;32m    822\u001b[0m \u001b[43m    \u001b[49m\u001b[43mtask_arguments\u001b[49m\u001b[38;5;241;43m=\u001b[39;49m\u001b[43mcontexts\u001b[49m\u001b[43m,\u001b[49m\n\u001b[1;32m    823\u001b[0m \u001b[43m    \u001b[49m\u001b[43mtask_finished\u001b[49m\u001b[38;5;241;43m=\u001b[39;49m\u001b[43mupdate_pageinfo\u001b[49m\u001b[43m,\u001b[49m\n\u001b[1;32m    824\u001b[0m \u001b[43m\u001b[49m\u001b[43m)\u001b[49m\n\u001b[1;32m    825\u001b[0m \u001b[38;5;28;01mreturn\u001b[39;00m pages\n",
      "File \u001b[0;32m~/Documents/web-analysis/.venv/lib64/python3.12/site-packages/ocrmypdf/_concurrent.py:78\u001b[0m, in \u001b[0;36mExecutor.__call__\u001b[0;34m(self, use_threads, max_workers, progress_kwargs, worker_initializer, task, task_arguments, task_finished)\u001b[0m\n\u001b[1;32m     75\u001b[0m     task \u001b[38;5;241m=\u001b[39m _task_noop\n\u001b[1;32m     77\u001b[0m \u001b[38;5;28;01mwith\u001b[39;00m \u001b[38;5;28mself\u001b[39m\u001b[38;5;241m.\u001b[39mpool_lock:\n\u001b[0;32m---> 78\u001b[0m     \u001b[38;5;28;43mself\u001b[39;49m\u001b[38;5;241;43m.\u001b[39;49m\u001b[43m_execute\u001b[49m\u001b[43m(\u001b[49m\n\u001b[1;32m     79\u001b[0m \u001b[43m        \u001b[49m\u001b[43muse_threads\u001b[49m\u001b[38;5;241;43m=\u001b[39;49m\u001b[43muse_threads\u001b[49m\u001b[43m,\u001b[49m\n\u001b[1;32m     80\u001b[0m \u001b[43m        \u001b[49m\u001b[43mmax_workers\u001b[49m\u001b[38;5;241;43m=\u001b[39;49m\u001b[43mmax_workers\u001b[49m\u001b[43m,\u001b[49m\n\u001b[1;32m     81\u001b[0m \u001b[43m        \u001b[49m\u001b[43mprogress_kwargs\u001b[49m\u001b[38;5;241;43m=\u001b[39;49m\u001b[43mprogress_kwargs\u001b[49m\u001b[43m,\u001b[49m\n\u001b[1;32m     82\u001b[0m \u001b[43m        \u001b[49m\u001b[43mworker_initializer\u001b[49m\u001b[38;5;241;43m=\u001b[39;49m\u001b[43mworker_initializer\u001b[49m\u001b[43m,\u001b[49m\n\u001b[1;32m     83\u001b[0m \u001b[43m        \u001b[49m\u001b[43mtask\u001b[49m\u001b[38;5;241;43m=\u001b[39;49m\u001b[43mtask\u001b[49m\u001b[43m,\u001b[49m\n\u001b[1;32m     84\u001b[0m \u001b[43m        \u001b[49m\u001b[43mtask_arguments\u001b[49m\u001b[38;5;241;43m=\u001b[39;49m\u001b[43mtask_arguments\u001b[49m\u001b[43m,\u001b[49m\n\u001b[1;32m     85\u001b[0m \u001b[43m        \u001b[49m\u001b[43mtask_finished\u001b[49m\u001b[38;5;241;43m=\u001b[39;49m\u001b[43mtask_finished\u001b[49m\u001b[43m,\u001b[49m\n\u001b[1;32m     86\u001b[0m \u001b[43m    \u001b[49m\u001b[43m)\u001b[49m\n",
      "File \u001b[0;32m~/Documents/web-analysis/.venv/lib64/python3.12/site-packages/ocrmypdf/builtin_plugins/concurrency.py:144\u001b[0m, in \u001b[0;36mStandardExecutor._execute\u001b[0;34m(self, use_threads, max_workers, progress_kwargs, worker_initializer, task, task_arguments, task_finished)\u001b[0m\n\u001b[1;32m    142\u001b[0m \u001b[38;5;28;01mtry\u001b[39;00m:\n\u001b[1;32m    143\u001b[0m     \u001b[38;5;28;01mfor\u001b[39;00m future \u001b[38;5;129;01min\u001b[39;00m as_completed(futures):\n\u001b[0;32m--> 144\u001b[0m         result \u001b[38;5;241m=\u001b[39m \u001b[43mfuture\u001b[49m\u001b[38;5;241;43m.\u001b[39;49m\u001b[43mresult\u001b[49m\u001b[43m(\u001b[49m\u001b[43m)\u001b[49m\n\u001b[1;32m    145\u001b[0m         task_finished(result, pbar)\n\u001b[1;32m    146\u001b[0m \u001b[38;5;28;01mexcept\u001b[39;00m \u001b[38;5;167;01mKeyboardInterrupt\u001b[39;00m:\n\u001b[1;32m    147\u001b[0m     \u001b[38;5;66;03m# Terminate pool so we exit instantly\u001b[39;00m\n",
      "File \u001b[0;32m/usr/lib64/python3.12/concurrent/futures/_base.py:449\u001b[0m, in \u001b[0;36mFuture.result\u001b[0;34m(self, timeout)\u001b[0m\n\u001b[1;32m    447\u001b[0m     \u001b[38;5;28;01mraise\u001b[39;00m CancelledError()\n\u001b[1;32m    448\u001b[0m \u001b[38;5;28;01melif\u001b[39;00m \u001b[38;5;28mself\u001b[39m\u001b[38;5;241m.\u001b[39m_state \u001b[38;5;241m==\u001b[39m FINISHED:\n\u001b[0;32m--> 449\u001b[0m     \u001b[38;5;28;01mreturn\u001b[39;00m \u001b[38;5;28;43mself\u001b[39;49m\u001b[38;5;241;43m.\u001b[39;49m\u001b[43m__get_result\u001b[49m\u001b[43m(\u001b[49m\u001b[43m)\u001b[49m\n\u001b[1;32m    451\u001b[0m \u001b[38;5;28mself\u001b[39m\u001b[38;5;241m.\u001b[39m_condition\u001b[38;5;241m.\u001b[39mwait(timeout)\n\u001b[1;32m    453\u001b[0m \u001b[38;5;28;01mif\u001b[39;00m \u001b[38;5;28mself\u001b[39m\u001b[38;5;241m.\u001b[39m_state \u001b[38;5;129;01min\u001b[39;00m [CANCELLED, CANCELLED_AND_NOTIFIED]:\n",
      "File \u001b[0;32m/usr/lib64/python3.12/concurrent/futures/_base.py:401\u001b[0m, in \u001b[0;36mFuture.__get_result\u001b[0;34m(self)\u001b[0m\n\u001b[1;32m    399\u001b[0m \u001b[38;5;28;01mif\u001b[39;00m \u001b[38;5;28mself\u001b[39m\u001b[38;5;241m.\u001b[39m_exception:\n\u001b[1;32m    400\u001b[0m     \u001b[38;5;28;01mtry\u001b[39;00m:\n\u001b[0;32m--> 401\u001b[0m         \u001b[38;5;28;01mraise\u001b[39;00m \u001b[38;5;28mself\u001b[39m\u001b[38;5;241m.\u001b[39m_exception\n\u001b[1;32m    402\u001b[0m     \u001b[38;5;28;01mfinally\u001b[39;00m:\n\u001b[1;32m    403\u001b[0m         \u001b[38;5;66;03m# Break a reference cycle with the exception in self._exception\u001b[39;00m\n\u001b[1;32m    404\u001b[0m         \u001b[38;5;28mself\u001b[39m \u001b[38;5;241m=\u001b[39m \u001b[38;5;28;01mNone\u001b[39;00m\n",
      "File \u001b[0;32m/usr/lib64/python3.12/concurrent/futures/thread.py:58\u001b[0m, in \u001b[0;36m_WorkItem.run\u001b[0;34m(self)\u001b[0m\n\u001b[1;32m     55\u001b[0m     \u001b[38;5;28;01mreturn\u001b[39;00m\n\u001b[1;32m     57\u001b[0m \u001b[38;5;28;01mtry\u001b[39;00m:\n\u001b[0;32m---> 58\u001b[0m     result \u001b[38;5;241m=\u001b[39m \u001b[38;5;28;43mself\u001b[39;49m\u001b[38;5;241;43m.\u001b[39;49m\u001b[43mfn\u001b[49m\u001b[43m(\u001b[49m\u001b[38;5;241;43m*\u001b[39;49m\u001b[38;5;28;43mself\u001b[39;49m\u001b[38;5;241;43m.\u001b[39;49m\u001b[43margs\u001b[49m\u001b[43m,\u001b[49m\u001b[43m \u001b[49m\u001b[38;5;241;43m*\u001b[39;49m\u001b[38;5;241;43m*\u001b[39;49m\u001b[38;5;28;43mself\u001b[39;49m\u001b[38;5;241;43m.\u001b[39;49m\u001b[43mkwargs\u001b[49m\u001b[43m)\u001b[49m\n\u001b[1;32m     59\u001b[0m \u001b[38;5;28;01mexcept\u001b[39;00m \u001b[38;5;167;01mBaseException\u001b[39;00m \u001b[38;5;28;01mas\u001b[39;00m exc:\n\u001b[1;32m     60\u001b[0m     \u001b[38;5;28mself\u001b[39m\u001b[38;5;241m.\u001b[39mfuture\u001b[38;5;241m.\u001b[39mset_exception(exc)\n",
      "File \u001b[0;32m~/Documents/web-analysis/.venv/lib64/python3.12/site-packages/ocrmypdf/pdfinfo/info.py:758\u001b[0m, in \u001b[0;36m_pdf_pageinfo_sync\u001b[0;34m(pageno, thread_pdf, infile, check_pages, detailed_analysis)\u001b[0m\n\u001b[1;32m    750\u001b[0m \u001b[38;5;28;01mdef\u001b[39;00m \u001b[38;5;21m_pdf_pageinfo_sync\u001b[39m(\n\u001b[1;32m    751\u001b[0m     pageno: \u001b[38;5;28mint\u001b[39m,\n\u001b[1;32m    752\u001b[0m     thread_pdf: Pdf \u001b[38;5;241m|\u001b[39m \u001b[38;5;28;01mNone\u001b[39;00m,\n\u001b[0;32m   (...)\u001b[0m\n\u001b[1;32m    755\u001b[0m     detailed_analysis: \u001b[38;5;28mbool\u001b[39m,\n\u001b[1;32m    756\u001b[0m ) \u001b[38;5;241m-\u001b[39m\u001b[38;5;241m>\u001b[39m PageInfo:\n\u001b[1;32m    757\u001b[0m     \u001b[38;5;28;01mwith\u001b[39;00m _pdf_pageinfo_sync_pdf(thread_pdf, infile) \u001b[38;5;28;01mas\u001b[39;00m pdf:\n\u001b[0;32m--> 758\u001b[0m         \u001b[38;5;28;01mreturn\u001b[39;00m \u001b[43mPageInfo\u001b[49m\u001b[43m(\u001b[49m\u001b[43mpdf\u001b[49m\u001b[43m,\u001b[49m\u001b[43m \u001b[49m\u001b[43mpageno\u001b[49m\u001b[43m,\u001b[49m\u001b[43m \u001b[49m\u001b[43minfile\u001b[49m\u001b[43m,\u001b[49m\u001b[43m \u001b[49m\u001b[43mcheck_pages\u001b[49m\u001b[43m,\u001b[49m\u001b[43m \u001b[49m\u001b[43mdetailed_analysis\u001b[49m\u001b[43m)\u001b[49m\n",
      "File \u001b[0;32m~/Documents/web-analysis/.venv/lib64/python3.12/site-packages/ocrmypdf/pdfinfo/info.py:873\u001b[0m, in \u001b[0;36mPageInfo.__init__\u001b[0;34m(self, pdf, pageno, infile, check_pages, detailed_analysis)\u001b[0m\n\u001b[1;32m    871\u001b[0m \u001b[38;5;28mself\u001b[39m\u001b[38;5;241m.\u001b[39m_infile \u001b[38;5;241m=\u001b[39m infile\n\u001b[1;32m    872\u001b[0m \u001b[38;5;28mself\u001b[39m\u001b[38;5;241m.\u001b[39m_detailed_analysis \u001b[38;5;241m=\u001b[39m detailed_analysis\n\u001b[0;32m--> 873\u001b[0m \u001b[38;5;28;43mself\u001b[39;49m\u001b[38;5;241;43m.\u001b[39;49m\u001b[43m_gather_pageinfo\u001b[49m\u001b[43m(\u001b[49m\u001b[43mpdf\u001b[49m\u001b[43m,\u001b[49m\u001b[43m \u001b[49m\u001b[43mpageno\u001b[49m\u001b[43m,\u001b[49m\u001b[43m \u001b[49m\u001b[43minfile\u001b[49m\u001b[43m,\u001b[49m\u001b[43m \u001b[49m\u001b[43mcheck_pages\u001b[49m\u001b[43m,\u001b[49m\u001b[43m \u001b[49m\u001b[43mdetailed_analysis\u001b[49m\u001b[43m)\u001b[49m\n",
      "File \u001b[0;32m~/Documents/web-analysis/.venv/lib64/python3.12/site-packages/ocrmypdf/pdfinfo/info.py:898\u001b[0m, in \u001b[0;36mPageInfo._gather_pageinfo\u001b[0;34m(self, pdf, pageno, infile, check_pages, detailed_analysis)\u001b[0m\n\u001b[1;32m    896\u001b[0m \u001b[38;5;28;01mif\u001b[39;00m check_this_page \u001b[38;5;129;01mand\u001b[39;00m detailed_analysis:\n\u001b[1;32m    897\u001b[0m     pscript5_mode \u001b[38;5;241m=\u001b[39m \u001b[38;5;28mstr\u001b[39m(pdf\u001b[38;5;241m.\u001b[39mdocinfo\u001b[38;5;241m.\u001b[39mget(Name\u001b[38;5;241m.\u001b[39mCreator))\u001b[38;5;241m.\u001b[39mstartswith(\u001b[38;5;124m'\u001b[39m\u001b[38;5;124mPScript5\u001b[39m\u001b[38;5;124m'\u001b[39m)\n\u001b[0;32m--> 898\u001b[0m     miner \u001b[38;5;241m=\u001b[39m \u001b[43mget_page_analysis\u001b[49m\u001b[43m(\u001b[49m\u001b[43minfile\u001b[49m\u001b[43m,\u001b[49m\u001b[43m \u001b[49m\u001b[43mpageno\u001b[49m\u001b[43m,\u001b[49m\u001b[43m \u001b[49m\u001b[43mpscript5_mode\u001b[49m\u001b[43m)\u001b[49m\n\u001b[1;32m    899\u001b[0m     \u001b[38;5;28;01mif\u001b[39;00m miner \u001b[38;5;129;01mis\u001b[39;00m \u001b[38;5;129;01mnot\u001b[39;00m \u001b[38;5;28;01mNone\u001b[39;00m:\n\u001b[1;32m    900\u001b[0m         \u001b[38;5;28mself\u001b[39m\u001b[38;5;241m.\u001b[39m_textboxes \u001b[38;5;241m=\u001b[39m \u001b[38;5;28mlist\u001b[39m(simplify_textboxes(miner, get_text_boxes))\n",
      "File \u001b[0;32m~/Documents/web-analysis/.venv/lib64/python3.12/site-packages/ocrmypdf/pdfinfo/layout.py:312\u001b[0m, in \u001b[0;36mget_page_analysis\u001b[0;34m(infile, pageno, pscript5_mode)\u001b[0m\n\u001b[1;32m    310\u001b[0m         page \u001b[38;5;241m=\u001b[39m \u001b[38;5;28mnext\u001b[39m(page_iter, \u001b[38;5;28;01mNone\u001b[39;00m)\n\u001b[1;32m    311\u001b[0m         \u001b[38;5;28;01mif\u001b[39;00m page \u001b[38;5;129;01mis\u001b[39;00m \u001b[38;5;28;01mNone\u001b[39;00m:\n\u001b[0;32m--> 312\u001b[0m             \u001b[38;5;28;01mraise\u001b[39;00m InputFileError(\n\u001b[1;32m    313\u001b[0m                 \u001b[38;5;124mf\u001b[39m\u001b[38;5;124m\"\u001b[39m\u001b[38;5;124mpdfminer could not process page \u001b[39m\u001b[38;5;132;01m{\u001b[39;00mpageno\u001b[38;5;132;01m}\u001b[39;00m\u001b[38;5;124m (counting from 0).\u001b[39m\u001b[38;5;124m\"\u001b[39m\n\u001b[1;32m    314\u001b[0m             )\n\u001b[1;32m    315\u001b[0m         interp\u001b[38;5;241m.\u001b[39mprocess_page(page)\n\u001b[1;32m    316\u001b[0m \u001b[38;5;28;01mexcept\u001b[39;00m PDFTextExtractionNotAllowed \u001b[38;5;28;01mas\u001b[39;00m e:\n",
      "\u001b[0;31mInputFileError\u001b[0m: pdfminer could not process page 0 (counting from 0)."
     ]
    }
   ],
   "source": [
    "max_level = 3\n",
    "loaded_files = set()\n",
    "url = 'https://pstu.ru/sveden/education/'\n",
    "\n",
    "traverse(url)\n"
   ]
  }
 ],
 "metadata": {
  "kernelspec": {
   "display_name": ".venv",
   "language": "python",
   "name": "python3"
  },
  "language_info": {
   "codemirror_mode": {
    "name": "ipython",
    "version": 3
   },
   "file_extension": ".py",
   "mimetype": "text/x-python",
   "name": "python",
   "nbconvert_exporter": "python",
   "pygments_lexer": "ipython3",
   "version": "3.13.0"
  }
 },
 "nbformat": 4,
 "nbformat_minor": 2
}
